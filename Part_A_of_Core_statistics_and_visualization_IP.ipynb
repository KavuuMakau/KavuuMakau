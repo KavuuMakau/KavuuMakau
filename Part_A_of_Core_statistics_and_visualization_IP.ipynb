{
  "nbformat": 4,
  "nbformat_minor": 0,
  "metadata": {
    "colab": {
      "name": "Part A of Core statistics and visualization IP.ipynb",
      "provenance": [],
      "collapsed_sections": [],
      "authorship_tag": "ABX9TyPfCeyeiQJk55a8OdtY2EwW",
      "include_colab_link": true
    },
    "kernelspec": {
      "name": "python3",
      "display_name": "Python 3"
    },
    "language_info": {
      "name": "python"
    }
  },
  "cells": [
    {
      "cell_type": "markdown",
      "metadata": {
        "id": "view-in-github",
        "colab_type": "text"
      },
      "source": [
        "<a href=\"https://colab.research.google.com/github/KavuuMakau/KavuuMakau/blob/main/Part_A_of_Core_statistics_and_visualization_IP.ipynb\" target=\"_parent\"><img src=\"https://colab.research.google.com/assets/colab-badge.svg\" alt=\"Open In Colab\"/></a>"
      ]
    },
    {
      "cell_type": "markdown",
      "source": [
        "**INDEPENDENT PROJECT FOR STATISTICS AND VISUALIZATION**\n",
        "\n",
        "**Part 1: Descriptive Statistics** \n"
      ],
      "metadata": {
        "id": "SaYow-eErYxo"
      }
    },
    {
      "cell_type": "markdown",
      "source": [
        "# Defining the question\n",
        "\n",
        "What factors from our dataset can be used to predict which individuals are most likely to have or use a bank account?\n"
      ],
      "metadata": {
        "id": "z7LX_S0IuBAa"
      }
    },
    {
      "cell_type": "markdown",
      "source": [
        "# Defining the metric for success\n",
        "\n",
        "The model that we choose should be able to predict with 85-95% accuracy the status of ownership of a bank account by an individual given the variable attributes in the dataset. "
      ],
      "metadata": {
        "id": "LqJU0tdduBd9"
      }
    },
    {
      "cell_type": "markdown",
      "source": [
        "# Context for the analysis\n",
        "\n",
        "In East Africa only 13.9% of the adult population has access to or use a commercial bank account. Access to bank accounts enables household to save and facilitate payments while also allowing businesses to build credit-worthiness and build up access to other financial services. Hence, owning or using a bank account is a key indicator if financial inclusion. \n",
        "\n",
        "The information from this analysis can be used by financial institutions to tailor products that will entice previously marginalized grous to get bank accounts."
      ],
      "metadata": {
        "id": "U7hESwCjuCCf"
      }
    },
    {
      "cell_type": "markdown",
      "source": [
        "# Experimental design\n",
        "\n",
        "The steps taken in carrying out this analysis are:\n",
        "1. Loading our dataset\n",
        "2. Carrying out data cleaning\n",
        "3. Carrying out univariate analysis by calculating measures of central tendency and dispersion for numerical variables. Categorical data will be analyzed by calculating frequencies, proportions and percentages. The categorical data will also be visualized using bar charts while the numerical data will be visualized using line charts/histograms and box plots to take note of outliers.\n",
        "4. Carry out bivariate analysis to establish relationships between two variables.\n",
        "5. Carry out mutlivariate analysis using data reduction techniques.\n",
        "6. From the results of the multivariate analysis determine the data attributes that can be used to predict the status of ownership of a bank account by an individual.\n",
        "7. Report on the findings."
      ],
      "metadata": {
        "id": "jWjtGaGsuCTX"
      }
    },
    {
      "cell_type": "markdown",
      "source": [
        "# Data validation\n",
        "\n",
        "National FinScope surveys from 2006 up to the most recently published demonstrate only a small gain in commercial bank penetration across the East African population, despite commercial banks being the second largest perpetrator of financial inclusion. In Kenya only 38% of the population use commercial banks, compared to 71% of the population that use mobile financial services. Similar statistics ring true across East Africa.\n",
        "\n",
        "More information can be found [here.](https://www.eadb.org/news-events/financial-technology-in-east-africa#:~:text=In%20Kenya%2C%20formal%20financial%20inclusion,ring%20true%20across%20East%20Africa)"
      ],
      "metadata": {
        "id": "t9u-XGGVuDcP"
      }
    },
    {
      "cell_type": "markdown",
      "source": [
        "# Importing the relevant libraries and loading the dataset"
      ],
      "metadata": {
        "id": "wOizme_vTNWX"
      }
    },
    {
      "cell_type": "code",
      "source": [
        "import pandas as pd\n",
        "import numpy as np \n",
        "import seaborn as sns\n",
        "import matplotlib.pyplot as plt\n"
      ],
      "metadata": {
        "id": "o2I2WP0WVQem"
      },
      "execution_count": 1,
      "outputs": []
    },
    {
      "cell_type": "code",
      "source": [
        "url = 'https://bit.ly/FinancialDataset'\n",
        "Fin_df = pd.read_csv(url)\n",
        "Fin_df.head()\n",
        "#observing the first five entries in the dataset"
      ],
      "metadata": {
        "colab": {
          "base_uri": "https://localhost:8080/",
          "height": 426
        },
        "id": "Z-m6vEGDVmHN",
        "outputId": "ec33abf6-fc7f-4ae3-f192-9540e6dfed93"
      },
      "execution_count": 2,
      "outputs": [
        {
          "output_type": "execute_result",
          "data": {
            "text/plain": [
              "  country  year    uniqueid Has a Bank account Type of Location  \\\n",
              "0   Kenya  2018  uniqueid_1                Yes            Rural   \n",
              "1   Kenya  2018  uniqueid_2                 No            Rural   \n",
              "2   Kenya  2018  uniqueid_3                Yes            Urban   \n",
              "3   Kenya  2018  uniqueid_4                 No            Rural   \n",
              "4   Kenya  2018  uniqueid_5                 No            Urban   \n",
              "\n",
              "  Cell Phone Access  household_size  Respondent Age gender_of_respondent  \\\n",
              "0               Yes             3.0            24.0               Female   \n",
              "1                No             5.0            70.0               Female   \n",
              "2               Yes             5.0            26.0                 Male   \n",
              "3               Yes             5.0            34.0               Female   \n",
              "4                No             8.0            26.0                 Male   \n",
              "\n",
              "  The relathip with head           marital_status  \\\n",
              "0                 Spouse  Married/Living together   \n",
              "1      Head of Household                  Widowed   \n",
              "2         Other relative     Single/Never Married   \n",
              "3      Head of Household  Married/Living together   \n",
              "4                  Child     Single/Never Married   \n",
              "\n",
              "               Level of Educuation                Type of Job  \n",
              "0              Secondary education              Self employed  \n",
              "1              No formal education       Government Dependent  \n",
              "2  Vocational/Specialised training              Self employed  \n",
              "3                Primary education  Formally employed Private  \n",
              "4                Primary education        Informally employed  "
            ],
            "text/html": [
              "\n",
              "  <div id=\"df-fc6bb804-091b-4ac9-9fae-db435a91aee9\">\n",
              "    <div class=\"colab-df-container\">\n",
              "      <div>\n",
              "<style scoped>\n",
              "    .dataframe tbody tr th:only-of-type {\n",
              "        vertical-align: middle;\n",
              "    }\n",
              "\n",
              "    .dataframe tbody tr th {\n",
              "        vertical-align: top;\n",
              "    }\n",
              "\n",
              "    .dataframe thead th {\n",
              "        text-align: right;\n",
              "    }\n",
              "</style>\n",
              "<table border=\"1\" class=\"dataframe\">\n",
              "  <thead>\n",
              "    <tr style=\"text-align: right;\">\n",
              "      <th></th>\n",
              "      <th>country</th>\n",
              "      <th>year</th>\n",
              "      <th>uniqueid</th>\n",
              "      <th>Has a Bank account</th>\n",
              "      <th>Type of Location</th>\n",
              "      <th>Cell Phone Access</th>\n",
              "      <th>household_size</th>\n",
              "      <th>Respondent Age</th>\n",
              "      <th>gender_of_respondent</th>\n",
              "      <th>The relathip with head</th>\n",
              "      <th>marital_status</th>\n",
              "      <th>Level of Educuation</th>\n",
              "      <th>Type of Job</th>\n",
              "    </tr>\n",
              "  </thead>\n",
              "  <tbody>\n",
              "    <tr>\n",
              "      <th>0</th>\n",
              "      <td>Kenya</td>\n",
              "      <td>2018</td>\n",
              "      <td>uniqueid_1</td>\n",
              "      <td>Yes</td>\n",
              "      <td>Rural</td>\n",
              "      <td>Yes</td>\n",
              "      <td>3.0</td>\n",
              "      <td>24.0</td>\n",
              "      <td>Female</td>\n",
              "      <td>Spouse</td>\n",
              "      <td>Married/Living together</td>\n",
              "      <td>Secondary education</td>\n",
              "      <td>Self employed</td>\n",
              "    </tr>\n",
              "    <tr>\n",
              "      <th>1</th>\n",
              "      <td>Kenya</td>\n",
              "      <td>2018</td>\n",
              "      <td>uniqueid_2</td>\n",
              "      <td>No</td>\n",
              "      <td>Rural</td>\n",
              "      <td>No</td>\n",
              "      <td>5.0</td>\n",
              "      <td>70.0</td>\n",
              "      <td>Female</td>\n",
              "      <td>Head of Household</td>\n",
              "      <td>Widowed</td>\n",
              "      <td>No formal education</td>\n",
              "      <td>Government Dependent</td>\n",
              "    </tr>\n",
              "    <tr>\n",
              "      <th>2</th>\n",
              "      <td>Kenya</td>\n",
              "      <td>2018</td>\n",
              "      <td>uniqueid_3</td>\n",
              "      <td>Yes</td>\n",
              "      <td>Urban</td>\n",
              "      <td>Yes</td>\n",
              "      <td>5.0</td>\n",
              "      <td>26.0</td>\n",
              "      <td>Male</td>\n",
              "      <td>Other relative</td>\n",
              "      <td>Single/Never Married</td>\n",
              "      <td>Vocational/Specialised training</td>\n",
              "      <td>Self employed</td>\n",
              "    </tr>\n",
              "    <tr>\n",
              "      <th>3</th>\n",
              "      <td>Kenya</td>\n",
              "      <td>2018</td>\n",
              "      <td>uniqueid_4</td>\n",
              "      <td>No</td>\n",
              "      <td>Rural</td>\n",
              "      <td>Yes</td>\n",
              "      <td>5.0</td>\n",
              "      <td>34.0</td>\n",
              "      <td>Female</td>\n",
              "      <td>Head of Household</td>\n",
              "      <td>Married/Living together</td>\n",
              "      <td>Primary education</td>\n",
              "      <td>Formally employed Private</td>\n",
              "    </tr>\n",
              "    <tr>\n",
              "      <th>4</th>\n",
              "      <td>Kenya</td>\n",
              "      <td>2018</td>\n",
              "      <td>uniqueid_5</td>\n",
              "      <td>No</td>\n",
              "      <td>Urban</td>\n",
              "      <td>No</td>\n",
              "      <td>8.0</td>\n",
              "      <td>26.0</td>\n",
              "      <td>Male</td>\n",
              "      <td>Child</td>\n",
              "      <td>Single/Never Married</td>\n",
              "      <td>Primary education</td>\n",
              "      <td>Informally employed</td>\n",
              "    </tr>\n",
              "  </tbody>\n",
              "</table>\n",
              "</div>\n",
              "      <button class=\"colab-df-convert\" onclick=\"convertToInteractive('df-fc6bb804-091b-4ac9-9fae-db435a91aee9')\"\n",
              "              title=\"Convert this dataframe to an interactive table.\"\n",
              "              style=\"display:none;\">\n",
              "        \n",
              "  <svg xmlns=\"http://www.w3.org/2000/svg\" height=\"24px\"viewBox=\"0 0 24 24\"\n",
              "       width=\"24px\">\n",
              "    <path d=\"M0 0h24v24H0V0z\" fill=\"none\"/>\n",
              "    <path d=\"M18.56 5.44l.94 2.06.94-2.06 2.06-.94-2.06-.94-.94-2.06-.94 2.06-2.06.94zm-11 1L8.5 8.5l.94-2.06 2.06-.94-2.06-.94L8.5 2.5l-.94 2.06-2.06.94zm10 10l.94 2.06.94-2.06 2.06-.94-2.06-.94-.94-2.06-.94 2.06-2.06.94z\"/><path d=\"M17.41 7.96l-1.37-1.37c-.4-.4-.92-.59-1.43-.59-.52 0-1.04.2-1.43.59L10.3 9.45l-7.72 7.72c-.78.78-.78 2.05 0 2.83L4 21.41c.39.39.9.59 1.41.59.51 0 1.02-.2 1.41-.59l7.78-7.78 2.81-2.81c.8-.78.8-2.07 0-2.86zM5.41 20L4 18.59l7.72-7.72 1.47 1.35L5.41 20z\"/>\n",
              "  </svg>\n",
              "      </button>\n",
              "      \n",
              "  <style>\n",
              "    .colab-df-container {\n",
              "      display:flex;\n",
              "      flex-wrap:wrap;\n",
              "      gap: 12px;\n",
              "    }\n",
              "\n",
              "    .colab-df-convert {\n",
              "      background-color: #E8F0FE;\n",
              "      border: none;\n",
              "      border-radius: 50%;\n",
              "      cursor: pointer;\n",
              "      display: none;\n",
              "      fill: #1967D2;\n",
              "      height: 32px;\n",
              "      padding: 0 0 0 0;\n",
              "      width: 32px;\n",
              "    }\n",
              "\n",
              "    .colab-df-convert:hover {\n",
              "      background-color: #E2EBFA;\n",
              "      box-shadow: 0px 1px 2px rgba(60, 64, 67, 0.3), 0px 1px 3px 1px rgba(60, 64, 67, 0.15);\n",
              "      fill: #174EA6;\n",
              "    }\n",
              "\n",
              "    [theme=dark] .colab-df-convert {\n",
              "      background-color: #3B4455;\n",
              "      fill: #D2E3FC;\n",
              "    }\n",
              "\n",
              "    [theme=dark] .colab-df-convert:hover {\n",
              "      background-color: #434B5C;\n",
              "      box-shadow: 0px 1px 3px 1px rgba(0, 0, 0, 0.15);\n",
              "      filter: drop-shadow(0px 1px 2px rgba(0, 0, 0, 0.3));\n",
              "      fill: #FFFFFF;\n",
              "    }\n",
              "  </style>\n",
              "\n",
              "      <script>\n",
              "        const buttonEl =\n",
              "          document.querySelector('#df-fc6bb804-091b-4ac9-9fae-db435a91aee9 button.colab-df-convert');\n",
              "        buttonEl.style.display =\n",
              "          google.colab.kernel.accessAllowed ? 'block' : 'none';\n",
              "\n",
              "        async function convertToInteractive(key) {\n",
              "          const element = document.querySelector('#df-fc6bb804-091b-4ac9-9fae-db435a91aee9');\n",
              "          const dataTable =\n",
              "            await google.colab.kernel.invokeFunction('convertToInteractive',\n",
              "                                                     [key], {});\n",
              "          if (!dataTable) return;\n",
              "\n",
              "          const docLinkHtml = 'Like what you see? Visit the ' +\n",
              "            '<a target=\"_blank\" href=https://colab.research.google.com/notebooks/data_table.ipynb>data table notebook</a>'\n",
              "            + ' to learn more about interactive tables.';\n",
              "          element.innerHTML = '';\n",
              "          dataTable['output_type'] = 'display_data';\n",
              "          await google.colab.output.renderOutput(dataTable, element);\n",
              "          const docLink = document.createElement('div');\n",
              "          docLink.innerHTML = docLinkHtml;\n",
              "          element.appendChild(docLink);\n",
              "        }\n",
              "      </script>\n",
              "    </div>\n",
              "  </div>\n",
              "  "
            ]
          },
          "metadata": {},
          "execution_count": 2
        }
      ]
    },
    {
      "cell_type": "code",
      "source": [
        "#viewing the last five entries of the dataset\n",
        "Fin_df.tail()"
      ],
      "metadata": {
        "colab": {
          "base_uri": "https://localhost:8080/",
          "height": 409
        },
        "id": "7A31LZ4zgkQc",
        "outputId": "6834e6ce-46bd-4e31-f5f7-824c9225e6e2"
      },
      "execution_count": 3,
      "outputs": [
        {
          "output_type": "execute_result",
          "data": {
            "text/plain": [
              "      country  year       uniqueid Has a Bank account Type of Location  \\\n",
              "23519  Uganda  2018  uniqueid_2113                 No            Rural   \n",
              "23520  Uganda  2018  uniqueid_2114                 No            Rural   \n",
              "23521  Uganda  2018  uniqueid_2115                 No            Rural   \n",
              "23522  Uganda  2018  uniqueid_2116                 No            Urban   \n",
              "23523  Uganda  2018  uniqueid_2117                 No            Rural   \n",
              "\n",
              "      Cell Phone Access  household_size  Respondent Age gender_of_respondent  \\\n",
              "23519               Yes             4.0            48.0               Female   \n",
              "23520               Yes             2.0            27.0               Female   \n",
              "23521               Yes             5.0            27.0               Female   \n",
              "23522               Yes             7.0            30.0               Female   \n",
              "23523               Yes            10.0            20.0                 Male   \n",
              "\n",
              "      The relathip with head        marital_status  Level of Educuation  \\\n",
              "23519      Head of Household    Divorced/Seperated  No formal education   \n",
              "23520      Head of Household  Single/Never Married  Secondary education   \n",
              "23521                 Parent               Widowed    Primary education   \n",
              "23522                 Parent    Divorced/Seperated  Secondary education   \n",
              "23523                  Child  Single/Never Married  Secondary education   \n",
              "\n",
              "         Type of Job  \n",
              "23519   Other Income  \n",
              "23520   Other Income  \n",
              "23521   Other Income  \n",
              "23522  Self employed  \n",
              "23523      No Income  "
            ],
            "text/html": [
              "\n",
              "  <div id=\"df-881a62d0-74da-44a4-b5c2-171ff3e6094f\">\n",
              "    <div class=\"colab-df-container\">\n",
              "      <div>\n",
              "<style scoped>\n",
              "    .dataframe tbody tr th:only-of-type {\n",
              "        vertical-align: middle;\n",
              "    }\n",
              "\n",
              "    .dataframe tbody tr th {\n",
              "        vertical-align: top;\n",
              "    }\n",
              "\n",
              "    .dataframe thead th {\n",
              "        text-align: right;\n",
              "    }\n",
              "</style>\n",
              "<table border=\"1\" class=\"dataframe\">\n",
              "  <thead>\n",
              "    <tr style=\"text-align: right;\">\n",
              "      <th></th>\n",
              "      <th>country</th>\n",
              "      <th>year</th>\n",
              "      <th>uniqueid</th>\n",
              "      <th>Has a Bank account</th>\n",
              "      <th>Type of Location</th>\n",
              "      <th>Cell Phone Access</th>\n",
              "      <th>household_size</th>\n",
              "      <th>Respondent Age</th>\n",
              "      <th>gender_of_respondent</th>\n",
              "      <th>The relathip with head</th>\n",
              "      <th>marital_status</th>\n",
              "      <th>Level of Educuation</th>\n",
              "      <th>Type of Job</th>\n",
              "    </tr>\n",
              "  </thead>\n",
              "  <tbody>\n",
              "    <tr>\n",
              "      <th>23519</th>\n",
              "      <td>Uganda</td>\n",
              "      <td>2018</td>\n",
              "      <td>uniqueid_2113</td>\n",
              "      <td>No</td>\n",
              "      <td>Rural</td>\n",
              "      <td>Yes</td>\n",
              "      <td>4.0</td>\n",
              "      <td>48.0</td>\n",
              "      <td>Female</td>\n",
              "      <td>Head of Household</td>\n",
              "      <td>Divorced/Seperated</td>\n",
              "      <td>No formal education</td>\n",
              "      <td>Other Income</td>\n",
              "    </tr>\n",
              "    <tr>\n",
              "      <th>23520</th>\n",
              "      <td>Uganda</td>\n",
              "      <td>2018</td>\n",
              "      <td>uniqueid_2114</td>\n",
              "      <td>No</td>\n",
              "      <td>Rural</td>\n",
              "      <td>Yes</td>\n",
              "      <td>2.0</td>\n",
              "      <td>27.0</td>\n",
              "      <td>Female</td>\n",
              "      <td>Head of Household</td>\n",
              "      <td>Single/Never Married</td>\n",
              "      <td>Secondary education</td>\n",
              "      <td>Other Income</td>\n",
              "    </tr>\n",
              "    <tr>\n",
              "      <th>23521</th>\n",
              "      <td>Uganda</td>\n",
              "      <td>2018</td>\n",
              "      <td>uniqueid_2115</td>\n",
              "      <td>No</td>\n",
              "      <td>Rural</td>\n",
              "      <td>Yes</td>\n",
              "      <td>5.0</td>\n",
              "      <td>27.0</td>\n",
              "      <td>Female</td>\n",
              "      <td>Parent</td>\n",
              "      <td>Widowed</td>\n",
              "      <td>Primary education</td>\n",
              "      <td>Other Income</td>\n",
              "    </tr>\n",
              "    <tr>\n",
              "      <th>23522</th>\n",
              "      <td>Uganda</td>\n",
              "      <td>2018</td>\n",
              "      <td>uniqueid_2116</td>\n",
              "      <td>No</td>\n",
              "      <td>Urban</td>\n",
              "      <td>Yes</td>\n",
              "      <td>7.0</td>\n",
              "      <td>30.0</td>\n",
              "      <td>Female</td>\n",
              "      <td>Parent</td>\n",
              "      <td>Divorced/Seperated</td>\n",
              "      <td>Secondary education</td>\n",
              "      <td>Self employed</td>\n",
              "    </tr>\n",
              "    <tr>\n",
              "      <th>23523</th>\n",
              "      <td>Uganda</td>\n",
              "      <td>2018</td>\n",
              "      <td>uniqueid_2117</td>\n",
              "      <td>No</td>\n",
              "      <td>Rural</td>\n",
              "      <td>Yes</td>\n",
              "      <td>10.0</td>\n",
              "      <td>20.0</td>\n",
              "      <td>Male</td>\n",
              "      <td>Child</td>\n",
              "      <td>Single/Never Married</td>\n",
              "      <td>Secondary education</td>\n",
              "      <td>No Income</td>\n",
              "    </tr>\n",
              "  </tbody>\n",
              "</table>\n",
              "</div>\n",
              "      <button class=\"colab-df-convert\" onclick=\"convertToInteractive('df-881a62d0-74da-44a4-b5c2-171ff3e6094f')\"\n",
              "              title=\"Convert this dataframe to an interactive table.\"\n",
              "              style=\"display:none;\">\n",
              "        \n",
              "  <svg xmlns=\"http://www.w3.org/2000/svg\" height=\"24px\"viewBox=\"0 0 24 24\"\n",
              "       width=\"24px\">\n",
              "    <path d=\"M0 0h24v24H0V0z\" fill=\"none\"/>\n",
              "    <path d=\"M18.56 5.44l.94 2.06.94-2.06 2.06-.94-2.06-.94-.94-2.06-.94 2.06-2.06.94zm-11 1L8.5 8.5l.94-2.06 2.06-.94-2.06-.94L8.5 2.5l-.94 2.06-2.06.94zm10 10l.94 2.06.94-2.06 2.06-.94-2.06-.94-.94-2.06-.94 2.06-2.06.94z\"/><path d=\"M17.41 7.96l-1.37-1.37c-.4-.4-.92-.59-1.43-.59-.52 0-1.04.2-1.43.59L10.3 9.45l-7.72 7.72c-.78.78-.78 2.05 0 2.83L4 21.41c.39.39.9.59 1.41.59.51 0 1.02-.2 1.41-.59l7.78-7.78 2.81-2.81c.8-.78.8-2.07 0-2.86zM5.41 20L4 18.59l7.72-7.72 1.47 1.35L5.41 20z\"/>\n",
              "  </svg>\n",
              "      </button>\n",
              "      \n",
              "  <style>\n",
              "    .colab-df-container {\n",
              "      display:flex;\n",
              "      flex-wrap:wrap;\n",
              "      gap: 12px;\n",
              "    }\n",
              "\n",
              "    .colab-df-convert {\n",
              "      background-color: #E8F0FE;\n",
              "      border: none;\n",
              "      border-radius: 50%;\n",
              "      cursor: pointer;\n",
              "      display: none;\n",
              "      fill: #1967D2;\n",
              "      height: 32px;\n",
              "      padding: 0 0 0 0;\n",
              "      width: 32px;\n",
              "    }\n",
              "\n",
              "    .colab-df-convert:hover {\n",
              "      background-color: #E2EBFA;\n",
              "      box-shadow: 0px 1px 2px rgba(60, 64, 67, 0.3), 0px 1px 3px 1px rgba(60, 64, 67, 0.15);\n",
              "      fill: #174EA6;\n",
              "    }\n",
              "\n",
              "    [theme=dark] .colab-df-convert {\n",
              "      background-color: #3B4455;\n",
              "      fill: #D2E3FC;\n",
              "    }\n",
              "\n",
              "    [theme=dark] .colab-df-convert:hover {\n",
              "      background-color: #434B5C;\n",
              "      box-shadow: 0px 1px 3px 1px rgba(0, 0, 0, 0.15);\n",
              "      filter: drop-shadow(0px 1px 2px rgba(0, 0, 0, 0.3));\n",
              "      fill: #FFFFFF;\n",
              "    }\n",
              "  </style>\n",
              "\n",
              "      <script>\n",
              "        const buttonEl =\n",
              "          document.querySelector('#df-881a62d0-74da-44a4-b5c2-171ff3e6094f button.colab-df-convert');\n",
              "        buttonEl.style.display =\n",
              "          google.colab.kernel.accessAllowed ? 'block' : 'none';\n",
              "\n",
              "        async function convertToInteractive(key) {\n",
              "          const element = document.querySelector('#df-881a62d0-74da-44a4-b5c2-171ff3e6094f');\n",
              "          const dataTable =\n",
              "            await google.colab.kernel.invokeFunction('convertToInteractive',\n",
              "                                                     [key], {});\n",
              "          if (!dataTable) return;\n",
              "\n",
              "          const docLinkHtml = 'Like what you see? Visit the ' +\n",
              "            '<a target=\"_blank\" href=https://colab.research.google.com/notebooks/data_table.ipynb>data table notebook</a>'\n",
              "            + ' to learn more about interactive tables.';\n",
              "          element.innerHTML = '';\n",
              "          dataTable['output_type'] = 'display_data';\n",
              "          await google.colab.output.renderOutput(dataTable, element);\n",
              "          const docLink = document.createElement('div');\n",
              "          docLink.innerHTML = docLinkHtml;\n",
              "          element.appendChild(docLink);\n",
              "        }\n",
              "      </script>\n",
              "    </div>\n",
              "  </div>\n",
              "  "
            ]
          },
          "metadata": {},
          "execution_count": 3
        }
      ]
    },
    {
      "cell_type": "code",
      "source": [
        "#finding the shape number of entries and attriutes of the dataset\n",
        "Fin_df.shape\n",
        "#The dataset has 23524 rows and 13 columns"
      ],
      "metadata": {
        "colab": {
          "base_uri": "https://localhost:8080/"
        },
        "id": "nbHiA0weX7Gj",
        "outputId": "cafac132-52a6-4049-a400-d861789e35ce"
      },
      "execution_count": 4,
      "outputs": [
        {
          "output_type": "execute_result",
          "data": {
            "text/plain": [
              "(23524, 13)"
            ]
          },
          "metadata": {},
          "execution_count": 4
        }
      ]
    },
    {
      "cell_type": "code",
      "source": [
        "#finding out the datatypes of our data attributes, as this will influence our choice of analysis techniques and visualizations.\n",
        "Fin_df.info()\n",
        "#There are only three numerical variables in our dataset, the other ten are categorical."
      ],
      "metadata": {
        "colab": {
          "base_uri": "https://localhost:8080/"
        },
        "id": "64N-FKFKb5MU",
        "outputId": "f8a51c90-601e-4a62-fb51-51abcec33d3c"
      },
      "execution_count": 5,
      "outputs": [
        {
          "output_type": "stream",
          "name": "stdout",
          "text": [
            "<class 'pandas.core.frame.DataFrame'>\n",
            "RangeIndex: 23524 entries, 0 to 23523\n",
            "Data columns (total 13 columns):\n",
            " #   Column                  Non-Null Count  Dtype  \n",
            "---  ------                  --------------  -----  \n",
            " 0   country                 23510 non-null  object \n",
            " 1   year                    23524 non-null  int64  \n",
            " 2   uniqueid                23524 non-null  object \n",
            " 3   Has a Bank account      23488 non-null  object \n",
            " 4   Type of Location        23509 non-null  object \n",
            " 5   Cell Phone Access       23513 non-null  object \n",
            " 6   household_size          23496 non-null  float64\n",
            " 7   Respondent Age          23490 non-null  float64\n",
            " 8   gender_of_respondent    23490 non-null  object \n",
            " 9   The relathip with head  23520 non-null  object \n",
            " 10  marital_status          23492 non-null  object \n",
            " 11  Level of Educuation     23495 non-null  object \n",
            " 12  Type of Job             23494 non-null  object \n",
            "dtypes: float64(2), int64(1), object(10)\n",
            "memory usage: 2.3+ MB\n"
          ]
        }
      ]
    },
    {
      "cell_type": "markdown",
      "source": [
        "# Defining the columns.\n",
        "\n",
        "It is important to capture, this information especially next to the df.info() which gives us datatypes of the attributes as this information will influence our decisions while hot-encoding.\n",
        "\n",
        "Country: Country interviewee is in\n",
        "Year: Year survey is in\n",
        "\n",
        "Uniqueid: Unique identifier for each interviewee\n",
        "\n",
        "Location_type: Type of location; rural or urban\n",
        "\n",
        "Cellphone_access: If interviewee has access to a cellphone; yes or no\n",
        "\n",
        "Household_size: Number of people living in one house\n",
        "\n",
        "Age_of_respondent: The age of the interviewee\n",
        "\n",
        "Gender_of_respondent: Gender of interviewee; Male or Female\n",
        "\n",
        "Relationship_with_head: The interviewee's relationship with the head of the house; Head of household, spouse, child, parent, other relative, other non-relatives, don't know\n",
        "\n",
        "Marital status: The marital status of the interviewee; Married/Living together, Divorced/Separated, Widowed, Single/Never married, Don't know\n",
        "\n",
        "Education: Highest level of education; No formal education, primary education, Secondary education, Vocational/Specialised training, Tertiary education, Other/Don't know/RTA\n",
        "\n",
        "Job_type: Type of job intervieweee has; Farming and fishing, Self employed, Formally employed government, Formally employed private, Informally employed, Remittance dependent, Government dependent, other income, No income, Don't know/Refuse to answer"
      ],
      "metadata": {
        "id": "6zjxt-L6izk-"
      }
    },
    {
      "cell_type": "markdown",
      "source": [
        "# Data cleaning"
      ],
      "metadata": {
        "id": "EBVj16eGi2lC"
      }
    },
    {
      "cell_type": "code",
      "source": [
        "#Finding outliers in the data\n",
        "#Plotting boxplots for the numerical data\n",
        "#Household size attrubute\n",
        "sns.boxplot(Fin_df['household_size'])\n",
        "plt.title('Boxplot of household size')\n",
        "plt.show()\n",
        "#Households with more than 10 individuals are outliers. They are a few and don't seem to affect the median and the mean much, \n",
        "#as the data is already skewed to the right, as demonstrated by the histogram below."
      ],
      "metadata": {
        "colab": {
          "base_uri": "https://localhost:8080/",
          "height": 351
        },
        "id": "3cCimFGGjUHF",
        "outputId": "2e294566-e012-4c8c-f516-a0f08fa85e42"
      },
      "execution_count": 6,
      "outputs": [
        {
          "output_type": "stream",
          "name": "stderr",
          "text": [
            "/usr/local/lib/python3.7/dist-packages/seaborn/_decorators.py:43: FutureWarning: Pass the following variable as a keyword arg: x. From version 0.12, the only valid positional argument will be `data`, and passing other arguments without an explicit keyword will result in an error or misinterpretation.\n",
            "  FutureWarning\n"
          ]
        },
        {
          "output_type": "display_data",
          "data": {
            "text/plain": [
              "<Figure size 432x288 with 1 Axes>"
            ],
            "image/png": "[encoded data removed]"
          },
          "metadata": {
            "needs_background": "light"
          }
        }
      ]
    },
    {
      "cell_type": "code",
      "source": [
        "plt.hist(Fin_df['household_size'], bins = 20)\n",
        "plt.title('Histogram of household size')\n",
        "plt.show()"
      ],
      "metadata": {
        "colab": {
          "base_uri": "https://localhost:8080/",
          "height": 281
        },
        "id": "W_oZUuYQmAoU",
        "outputId": "bed222a1-e86d-4dc4-9fb5-624331d8fb62"
      },
      "execution_count": 7,
      "outputs": [
        {
          "output_type": "display_data",
          "data": {
            "text/plain": [
              "<Figure size 432x288 with 1 Axes>"
            ],
            "image/png": "[encoded data removed]"
          },
          "metadata": {
            "needs_background": "light"
          }
        }
      ]
    },
    {
      "cell_type": "code",
      "source": [
        "#Age attribute\n",
        "Fin_df.boxplot(column = ['Respondent Age'],figsize=(16, 10))\n",
        "#The outliers are all above the age of 80. They are very few and don't seem to affect the mean and the median a lot."
      ],
      "metadata": {
        "colab": {
          "base_uri": "https://localhost:8080/",
          "height": 609
        },
        "id": "ixRa1yaLlQTy",
        "outputId": "e5198bca-6444-42bc-9b7d-8f83203bc8ab"
      },
      "execution_count": 8,
      "outputs": [
        {
          "output_type": "execute_result",
          "data": {
            "text/plain": [
              "<AxesSubplot:>"
            ]
          },
          "metadata": {},
          "execution_count": 8
        },
        {
          "output_type": "display_data",
          "data": {
            "text/plain": [
              "<Figure size 1152x720 with 1 Axes>"
            ],
            "image/png": "[encoded data removed]"
          },
          "metadata": {
            "needs_background": "light"
          }
        }
      ]
    },
    {
      "cell_type": "code",
      "source": [
        "from numpy.ma.core import count\n",
        "plt.hist(Fin_df['Respondent Age'])\n",
        "plt.title('Histogram of repsondents age')\n",
        "plt.show()\n",
        "#The data is right skewed with few outliers beyond the age of 80."
      ],
      "metadata": {
        "colab": {
          "base_uri": "https://localhost:8080/",
          "height": 281
        },
        "id": "3jzpkbMnp9dl",
        "outputId": "b7b3fe4e-9127-404b-a9f3-6cff991bd353"
      },
      "execution_count": 9,
      "outputs": [
        {
          "output_type": "display_data",
          "data": {
            "text/plain": [
              "<Figure size 432x288 with 1 Axes>"
            ],
            "image/png": "[encoded data removed]"
          },
          "metadata": {
            "needs_background": "light"
          }
        }
      ]
    },
    {
      "cell_type": "code",
      "source": [
        "Fin_df.value_counts(Fin_df['Respondent Age'] > 80)"
      ],
      "metadata": {
        "colab": {
          "base_uri": "https://localhost:8080/"
        },
        "id": "TTpzoFINq2GW",
        "outputId": "937f8cb7-3e8b-4abd-920d-4eca5d55013c"
      },
      "execution_count": 10,
      "outputs": [
        {
          "output_type": "execute_result",
          "data": {
            "text/plain": [
              "Respondent Age\n",
              "False    23185\n",
              "True       339\n",
              "dtype: int64"
            ]
          },
          "metadata": {},
          "execution_count": 10
        }
      ]
    },
    {
      "cell_type": "code",
      "source": [
        "#Looking for missing values\n",
        "col_names = ['country', 'year', 'uniqueid', 'Has a Bank account','Type of Location', 'Cell Phone Access', 'household_size','Respondent Age', 'gender_of_respondent', 'The relathip with head','marital_status', 'Level of Educuation', 'Type of Job']\n",
        "for val in col_names:\n",
        "  print(val,\"has\", Fin_df[val].isnull().sum(),\"null values\")"
      ],
      "metadata": {
        "colab": {
          "base_uri": "https://localhost:8080/"
        },
        "id": "FouicX-Ix4Ue",
        "outputId": "40daf048-4b09-4340-c08d-afda26365057"
      },
      "execution_count": 11,
      "outputs": [
        {
          "output_type": "stream",
          "name": "stdout",
          "text": [
            "country has 14 null values\n",
            "year has 0 null values\n",
            "uniqueid has 0 null values\n",
            "Has a Bank account has 36 null values\n",
            "Type of Location has 15 null values\n",
            "Cell Phone Access has 11 null values\n",
            "household_size has 28 null values\n",
            "Respondent Age has 34 null values\n",
            "gender_of_respondent has 34 null values\n",
            "The relathip with head has 4 null values\n",
            "marital_status has 32 null values\n",
            "Level of Educuation has 29 null values\n",
            "Type of Job has 30 null values\n"
          ]
        }
      ]
    },
    {
      "cell_type": "code",
      "source": [
        "#Choose to drop the null values particularly in the 'Bank Account' attribute as it is the \"target\" in this analysis. \n",
        "#Furthermore, the dataset is big, so it should remain representative even after dropping the nulls\n",
        "Fin_df.dropna(axis = 0, inplace = True)"
      ],
      "metadata": {
        "id": "V9wt57T5yg8v"
      },
      "execution_count": 12,
      "outputs": []
    },
    {
      "cell_type": "code",
      "source": [
        "#confirmin that we have dropped all nulls\n",
        "sns.heatmap(Fin_df.isnull())"
      ],
      "metadata": {
        "colab": {
          "base_uri": "https://localhost:8080/",
          "height": 390
        },
        "id": "QdfbQ6t6PF9c",
        "outputId": "6fd083c3-89ab-4515-9800-c7d154d2b58f"
      },
      "execution_count": 13,
      "outputs": [
        {
          "output_type": "execute_result",
          "data": {
            "text/plain": [
              "<AxesSubplot:>"
            ]
          },
          "metadata": {},
          "execution_count": 13
        },
        {
          "output_type": "display_data",
          "data": {
            "text/plain": [
              "<Figure size 432x288 with 2 Axes>"
            ],
            "image/png": "[encoded data removed]"
          },
          "metadata": {
            "needs_background": "light"
          }
        }
      ]
    },
    {
      "cell_type": "code",
      "source": [
        "Fin_df.shape\n",
        "#Our data has changed quite a bit after dropping the null values"
      ],
      "metadata": {
        "colab": {
          "base_uri": "https://localhost:8080/"
        },
        "id": "g4l9hWNY1HXp",
        "outputId": "4c4b54fb-1a3c-4a3c-bba2-8692182dc349"
      },
      "execution_count": 14,
      "outputs": [
        {
          "output_type": "execute_result",
          "data": {
            "text/plain": [
              "(23343, 13)"
            ]
          },
          "metadata": {},
          "execution_count": 14
        }
      ]
    },
    {
      "cell_type": "code",
      "source": [
        "Fin_df.describe()\n",
        "#getting the statistics for all of the numerical attributes. \n",
        "#I don't feel the need to get a description of the categorical variables as most of the results will be NaN\n",
        "# and the frequencies and counts can be analyzed in the univariate analysis."
      ],
      "metadata": {
        "id": "hfP0PDmM12qL",
        "colab": {
          "base_uri": "https://localhost:8080/",
          "height": 300
        },
        "outputId": "cf638b02-61cf-4a4f-d8b5-13657c448f14"
      },
      "execution_count": 15,
      "outputs": [
        {
          "output_type": "execute_result",
          "data": {
            "text/plain": [
              "               year  household_size  Respondent Age\n",
              "count  23343.000000    23343.000000    23343.000000\n",
              "mean    2016.980594        3.688643       38.805509\n",
              "std        0.901740        2.281184       16.519803\n",
              "min     2016.000000        0.000000       16.000000\n",
              "25%     2016.000000        2.000000       26.000000\n",
              "50%     2017.000000        3.000000       35.000000\n",
              "75%     2018.000000        5.000000       49.000000\n",
              "max     2056.000000       21.000000      100.000000"
            ],
            "text/html": [
              "\n",
              "  <div id=\"df-5e7f5fda-7133-4420-a02c-2ccd7459da24\">\n",
              "    <div class=\"colab-df-container\">\n",
              "      <div>\n",
              "<style scoped>\n",
              "    .dataframe tbody tr th:only-of-type {\n",
              "        vertical-align: middle;\n",
              "    }\n",
              "\n",
              "    .dataframe tbody tr th {\n",
              "        vertical-align: top;\n",
              "    }\n",
              "\n",
              "    .dataframe thead th {\n",
              "        text-align: right;\n",
              "    }\n",
              "</style>\n",
              "<table border=\"1\" class=\"dataframe\">\n",
              "  <thead>\n",
              "    <tr style=\"text-align: right;\">\n",
              "      <th></th>\n",
              "      <th>year</th>\n",
              "      <th>household_size</th>\n",
              "      <th>Respondent Age</th>\n",
              "    </tr>\n",
              "  </thead>\n",
              "  <tbody>\n",
              "    <tr>\n",
              "      <th>count</th>\n",
              "      <td>23343.000000</td>\n",
              "      <td>23343.000000</td>\n",
              "      <td>23343.000000</td>\n",
              "    </tr>\n",
              "    <tr>\n",
              "      <th>mean</th>\n",
              "      <td>2016.980594</td>\n",
              "      <td>3.688643</td>\n",
              "      <td>38.805509</td>\n",
              "    </tr>\n",
              "    <tr>\n",
              "      <th>std</th>\n",
              "      <td>0.901740</td>\n",
              "      <td>2.281184</td>\n",
              "      <td>16.519803</td>\n",
              "    </tr>\n",
              "    <tr>\n",
              "      <th>min</th>\n",
              "      <td>2016.000000</td>\n",
              "      <td>0.000000</td>\n",
              "      <td>16.000000</td>\n",
              "    </tr>\n",
              "    <tr>\n",
              "      <th>25%</th>\n",
              "      <td>2016.000000</td>\n",
              "      <td>2.000000</td>\n",
              "      <td>26.000000</td>\n",
              "    </tr>\n",
              "    <tr>\n",
              "      <th>50%</th>\n",
              "      <td>2017.000000</td>\n",
              "      <td>3.000000</td>\n",
              "      <td>35.000000</td>\n",
              "    </tr>\n",
              "    <tr>\n",
              "      <th>75%</th>\n",
              "      <td>2018.000000</td>\n",
              "      <td>5.000000</td>\n",
              "      <td>49.000000</td>\n",
              "    </tr>\n",
              "    <tr>\n",
              "      <th>max</th>\n",
              "      <td>2056.000000</td>\n",
              "      <td>21.000000</td>\n",
              "      <td>100.000000</td>\n",
              "    </tr>\n",
              "  </tbody>\n",
              "</table>\n",
              "</div>\n",
              "      <button class=\"colab-df-convert\" onclick=\"convertToInteractive('df-5e7f5fda-7133-4420-a02c-2ccd7459da24')\"\n",
              "              title=\"Convert this dataframe to an interactive table.\"\n",
              "              style=\"display:none;\">\n",
              "        \n",
              "  <svg xmlns=\"http://www.w3.org/2000/svg\" height=\"24px\"viewBox=\"0 0 24 24\"\n",
              "       width=\"24px\">\n",
              "    <path d=\"M0 0h24v24H0V0z\" fill=\"none\"/>\n",
              "    <path d=\"M18.56 5.44l.94 2.06.94-2.06 2.06-.94-2.06-.94-.94-2.06-.94 2.06-2.06.94zm-11 1L8.5 8.5l.94-2.06 2.06-.94-2.06-.94L8.5 2.5l-.94 2.06-2.06.94zm10 10l.94 2.06.94-2.06 2.06-.94-2.06-.94-.94-2.06-.94 2.06-2.06.94z\"/><path d=\"M17.41 7.96l-1.37-1.37c-.4-.4-.92-.59-1.43-.59-.52 0-1.04.2-1.43.59L10.3 9.45l-7.72 7.72c-.78.78-.78 2.05 0 2.83L4 21.41c.39.39.9.59 1.41.59.51 0 1.02-.2 1.41-.59l7.78-7.78 2.81-2.81c.8-.78.8-2.07 0-2.86zM5.41 20L4 18.59l7.72-7.72 1.47 1.35L5.41 20z\"/>\n",
              "  </svg>\n",
              "      </button>\n",
              "      \n",
              "  <style>\n",
              "    .colab-df-container {\n",
              "      display:flex;\n",
              "      flex-wrap:wrap;\n",
              "      gap: 12px;\n",
              "    }\n",
              "\n",
              "    .colab-df-convert {\n",
              "      background-color: #E8F0FE;\n",
              "      border: none;\n",
              "      border-radius: 50%;\n",
              "      cursor: pointer;\n",
              "      display: none;\n",
              "      fill: #1967D2;\n",
              "      height: 32px;\n",
              "      padding: 0 0 0 0;\n",
              "      width: 32px;\n",
              "    }\n",
              "\n",
              "    .colab-df-convert:hover {\n",
              "      background-color: #E2EBFA;\n",
              "      box-shadow: 0px 1px 2px rgba(60, 64, 67, 0.3), 0px 1px 3px 1px rgba(60, 64, 67, 0.15);\n",
              "      fill: #174EA6;\n",
              "    }\n",
              "\n",
              "    [theme=dark] .colab-df-convert {\n",
              "      background-color: #3B4455;\n",
              "      fill: #D2E3FC;\n",
              "    }\n",
              "\n",
              "    [theme=dark] .colab-df-convert:hover {\n",
              "      background-color: #434B5C;\n",
              "      box-shadow: 0px 1px 3px 1px rgba(0, 0, 0, 0.15);\n",
              "      filter: drop-shadow(0px 1px 2px rgba(0, 0, 0, 0.3));\n",
              "      fill: #FFFFFF;\n",
              "    }\n",
              "  </style>\n",
              "\n",
              "      <script>\n",
              "        const buttonEl =\n",
              "          document.querySelector('#df-5e7f5fda-7133-4420-a02c-2ccd7459da24 button.colab-df-convert');\n",
              "        buttonEl.style.display =\n",
              "          google.colab.kernel.accessAllowed ? 'block' : 'none';\n",
              "\n",
              "        async function convertToInteractive(key) {\n",
              "          const element = document.querySelector('#df-5e7f5fda-7133-4420-a02c-2ccd7459da24');\n",
              "          const dataTable =\n",
              "            await google.colab.kernel.invokeFunction('convertToInteractive',\n",
              "                                                     [key], {});\n",
              "          if (!dataTable) return;\n",
              "\n",
              "          const docLinkHtml = 'Like what you see? Visit the ' +\n",
              "            '<a target=\"_blank\" href=https://colab.research.google.com/notebooks/data_table.ipynb>data table notebook</a>'\n",
              "            + ' to learn more about interactive tables.';\n",
              "          element.innerHTML = '';\n",
              "          dataTable['output_type'] = 'display_data';\n",
              "          await google.colab.output.renderOutput(dataTable, element);\n",
              "          const docLink = document.createElement('div');\n",
              "          docLink.innerHTML = docLinkHtml;\n",
              "          element.appendChild(docLink);\n",
              "        }\n",
              "      </script>\n",
              "    </div>\n",
              "  </div>\n",
              "  "
            ]
          },
          "metadata": {},
          "execution_count": 15
        }
      ]
    },
    {
      "cell_type": "code",
      "source": [
        "#from the year attribute, there is clearly a mistake as the maximum value is 2056, when the study was conducted in 2016,2017 and 2018.\n",
        "#checking the unique values in this column\n",
        "Fin_df['year'].nunique()\n",
        "#We have six unique values instead of 3"
      ],
      "metadata": {
        "colab": {
          "base_uri": "https://localhost:8080/"
        },
        "id": "ye854jKMpBoN",
        "outputId": "d6c818c8-b4d5-4b7a-de57-0222d20c9644"
      },
      "execution_count": 16,
      "outputs": [
        {
          "output_type": "execute_result",
          "data": {
            "text/plain": [
              "6"
            ]
          },
          "metadata": {},
          "execution_count": 16
        }
      ]
    },
    {
      "cell_type": "code",
      "source": [
        "#Viewing the wrongly input year entries\n",
        "Fin_df[Fin_df['year'] > 2018]\n",
        "#The values that are outside the possible range of years for the study are all greater than 2018, \n",
        "#they are 2029, 2056 and 2039. It is highly likely that these were spelling mistakes (due to the closeness of the digits on a keyboard)\n",
        "#and the numbers should be 2018, 2016 and 2018."
      ],
      "metadata": {
        "colab": {
          "base_uri": "https://localhost:8080/",
          "height": 329
        },
        "id": "t4apU9UPph-Q",
        "outputId": "f358775f-55f8-42b4-9db7-8f0fb1aab10c"
      },
      "execution_count": 17,
      "outputs": [
        {
          "output_type": "execute_result",
          "data": {
            "text/plain": [
              "     country  year      uniqueid Has a Bank account Type of Location  \\\n",
              "213    Kenya  2029  uniqueid_214                 No            Urban   \n",
              "308    Kenya  2056  uniqueid_309                Yes            Urban   \n",
              "7014  Rwanda  2039  uniqueid_947                 No            Rural   \n",
              "\n",
              "     Cell Phone Access  household_size  Respondent Age gender_of_respondent  \\\n",
              "213                Yes             6.0            16.0                 Male   \n",
              "308                Yes             4.0            40.0                 Male   \n",
              "7014               Yes             3.0            24.0               Female   \n",
              "\n",
              "     The relathip with head           marital_status  Level of Educuation  \\\n",
              "213          Other relative     Single/Never Married  Secondary education   \n",
              "308       Head of Household  Married/Living together   Tertiary education   \n",
              "7014                 Spouse  Married/Living together    Primary education   \n",
              "\n",
              "                    Type of Job  \n",
              "213        Remittance Dependent  \n",
              "308   Formally employed Private  \n",
              "7014        Informally employed  "
            ],
            "text/html": [
              "\n",
              "  <div id=\"df-350d5f13-9733-4c8d-9a04-eae4e224ad3c\">\n",
              "    <div class=\"colab-df-container\">\n",
              "      <div>\n",
              "<style scoped>\n",
              "    .dataframe tbody tr th:only-of-type {\n",
              "        vertical-align: middle;\n",
              "    }\n",
              "\n",
              "    .dataframe tbody tr th {\n",
              "        vertical-align: top;\n",
              "    }\n",
              "\n",
              "    .dataframe thead th {\n",
              "        text-align: right;\n",
              "    }\n",
              "</style>\n",
              "<table border=\"1\" class=\"dataframe\">\n",
              "  <thead>\n",
              "    <tr style=\"text-align: right;\">\n",
              "      <th></th>\n",
              "      <th>country</th>\n",
              "      <th>year</th>\n",
              "      <th>uniqueid</th>\n",
              "      <th>Has a Bank account</th>\n",
              "      <th>Type of Location</th>\n",
              "      <th>Cell Phone Access</th>\n",
              "      <th>household_size</th>\n",
              "      <th>Respondent Age</th>\n",
              "      <th>gender_of_respondent</th>\n",
              "      <th>The relathip with head</th>\n",
              "      <th>marital_status</th>\n",
              "      <th>Level of Educuation</th>\n",
              "      <th>Type of Job</th>\n",
              "    </tr>\n",
              "  </thead>\n",
              "  <tbody>\n",
              "    <tr>\n",
              "      <th>213</th>\n",
              "      <td>Kenya</td>\n",
              "      <td>2029</td>\n",
              "      <td>uniqueid_214</td>\n",
              "      <td>No</td>\n",
              "      <td>Urban</td>\n",
              "      <td>Yes</td>\n",
              "      <td>6.0</td>\n",
              "      <td>16.0</td>\n",
              "      <td>Male</td>\n",
              "      <td>Other relative</td>\n",
              "      <td>Single/Never Married</td>\n",
              "      <td>Secondary education</td>\n",
              "      <td>Remittance Dependent</td>\n",
              "    </tr>\n",
              "    <tr>\n",
              "      <th>308</th>\n",
              "      <td>Kenya</td>\n",
              "      <td>2056</td>\n",
              "      <td>uniqueid_309</td>\n",
              "      <td>Yes</td>\n",
              "      <td>Urban</td>\n",
              "      <td>Yes</td>\n",
              "      <td>4.0</td>\n",
              "      <td>40.0</td>\n",
              "      <td>Male</td>\n",
              "      <td>Head of Household</td>\n",
              "      <td>Married/Living together</td>\n",
              "      <td>Tertiary education</td>\n",
              "      <td>Formally employed Private</td>\n",
              "    </tr>\n",
              "    <tr>\n",
              "      <th>7014</th>\n",
              "      <td>Rwanda</td>\n",
              "      <td>2039</td>\n",
              "      <td>uniqueid_947</td>\n",
              "      <td>No</td>\n",
              "      <td>Rural</td>\n",
              "      <td>Yes</td>\n",
              "      <td>3.0</td>\n",
              "      <td>24.0</td>\n",
              "      <td>Female</td>\n",
              "      <td>Spouse</td>\n",
              "      <td>Married/Living together</td>\n",
              "      <td>Primary education</td>\n",
              "      <td>Informally employed</td>\n",
              "    </tr>\n",
              "  </tbody>\n",
              "</table>\n",
              "</div>\n",
              "      <button class=\"colab-df-convert\" onclick=\"convertToInteractive('df-350d5f13-9733-4c8d-9a04-eae4e224ad3c')\"\n",
              "              title=\"Convert this dataframe to an interactive table.\"\n",
              "              style=\"display:none;\">\n",
              "        \n",
              "  <svg xmlns=\"http://www.w3.org/2000/svg\" height=\"24px\"viewBox=\"0 0 24 24\"\n",
              "       width=\"24px\">\n",
              "    <path d=\"M0 0h24v24H0V0z\" fill=\"none\"/>\n",
              "    <path d=\"M18.56 5.44l.94 2.06.94-2.06 2.06-.94-2.06-.94-.94-2.06-.94 2.06-2.06.94zm-11 1L8.5 8.5l.94-2.06 2.06-.94-2.06-.94L8.5 2.5l-.94 2.06-2.06.94zm10 10l.94 2.06.94-2.06 2.06-.94-2.06-.94-.94-2.06-.94 2.06-2.06.94z\"/><path d=\"M17.41 7.96l-1.37-1.37c-.4-.4-.92-.59-1.43-.59-.52 0-1.04.2-1.43.59L10.3 9.45l-7.72 7.72c-.78.78-.78 2.05 0 2.83L4 21.41c.39.39.9.59 1.41.59.51 0 1.02-.2 1.41-.59l7.78-7.78 2.81-2.81c.8-.78.8-2.07 0-2.86zM5.41 20L4 18.59l7.72-7.72 1.47 1.35L5.41 20z\"/>\n",
              "  </svg>\n",
              "      </button>\n",
              "      \n",
              "  <style>\n",
              "    .colab-df-container {\n",
              "      display:flex;\n",
              "      flex-wrap:wrap;\n",
              "      gap: 12px;\n",
              "    }\n",
              "\n",
              "    .colab-df-convert {\n",
              "      background-color: #E8F0FE;\n",
              "      border: none;\n",
              "      border-radius: 50%;\n",
              "      cursor: pointer;\n",
              "      display: none;\n",
              "      fill: #1967D2;\n",
              "      height: 32px;\n",
              "      padding: 0 0 0 0;\n",
              "      width: 32px;\n",
              "    }\n",
              "\n",
              "    .colab-df-convert:hover {\n",
              "      background-color: #E2EBFA;\n",
              "      box-shadow: 0px 1px 2px rgba(60, 64, 67, 0.3), 0px 1px 3px 1px rgba(60, 64, 67, 0.15);\n",
              "      fill: #174EA6;\n",
              "    }\n",
              "\n",
              "    [theme=dark] .colab-df-convert {\n",
              "      background-color: #3B4455;\n",
              "      fill: #D2E3FC;\n",
              "    }\n",
              "\n",
              "    [theme=dark] .colab-df-convert:hover {\n",
              "      background-color: #434B5C;\n",
              "      box-shadow: 0px 1px 3px 1px rgba(0, 0, 0, 0.15);\n",
              "      filter: drop-shadow(0px 1px 2px rgba(0, 0, 0, 0.3));\n",
              "      fill: #FFFFFF;\n",
              "    }\n",
              "  </style>\n",
              "\n",
              "      <script>\n",
              "        const buttonEl =\n",
              "          document.querySelector('#df-350d5f13-9733-4c8d-9a04-eae4e224ad3c button.colab-df-convert');\n",
              "        buttonEl.style.display =\n",
              "          google.colab.kernel.accessAllowed ? 'block' : 'none';\n",
              "\n",
              "        async function convertToInteractive(key) {\n",
              "          const element = document.querySelector('#df-350d5f13-9733-4c8d-9a04-eae4e224ad3c');\n",
              "          const dataTable =\n",
              "            await google.colab.kernel.invokeFunction('convertToInteractive',\n",
              "                                                     [key], {});\n",
              "          if (!dataTable) return;\n",
              "\n",
              "          const docLinkHtml = 'Like what you see? Visit the ' +\n",
              "            '<a target=\"_blank\" href=https://colab.research.google.com/notebooks/data_table.ipynb>data table notebook</a>'\n",
              "            + ' to learn more about interactive tables.';\n",
              "          element.innerHTML = '';\n",
              "          dataTable['output_type'] = 'display_data';\n",
              "          await google.colab.output.renderOutput(dataTable, element);\n",
              "          const docLink = document.createElement('div');\n",
              "          docLink.innerHTML = docLinkHtml;\n",
              "          element.appendChild(docLink);\n",
              "        }\n",
              "      </script>\n",
              "    </div>\n",
              "  </div>\n",
              "  "
            ]
          },
          "metadata": {},
          "execution_count": 17
        }
      ]
    },
    {
      "cell_type": "code",
      "source": [
        "#Replacing with the correct year values\n",
        "Wrong_values = [2029, 2056, 2039]\n",
        "Correction = [2018, 2016, 2018]\n",
        "Fin_df['year'] = Fin_df['year'].replace([2029,2056,2039],[2018,2016,2018])"
      ],
      "metadata": {
        "id": "RyPz79Psv3g3"
      },
      "execution_count": 18,
      "outputs": []
    },
    {
      "cell_type": "code",
      "source": [
        "#confirming the change in the year attribute\n",
        "Fin_df['year'].unique()"
      ],
      "metadata": {
        "colab": {
          "base_uri": "https://localhost:8080/"
        },
        "id": "qBDVBKQP30Q5",
        "outputId": "a0d7e36b-a0a7-42cc-f857-dfb6da34d8c4"
      },
      "execution_count": 19,
      "outputs": [
        {
          "output_type": "execute_result",
          "data": {
            "text/plain": [
              "array([2018, 2016, 2017])"
            ]
          },
          "metadata": {},
          "execution_count": 19
        }
      ]
    },
    {
      "cell_type": "code",
      "source": [
        "#checking that the attribues with categorical variables don't have entries that are not part of the given choices as per the given data definition\n",
        "cols = ['country', 'Has a Bank account','Type of Location', 'Cell Phone Access', 'gender_of_respondent', 'The relathip with head','marital_status', 'Level of Educuation', 'Type of Job'] \n",
        "\n",
        "for col in cols:\n",
        "  print('Unique values in',col,'are',Fin_df[col].unique())\n",
        "#all categories are fine except \"Level of education\" which has '6' as one if the responses but it is not defined as one of the expected responses."
      ],
      "metadata": {
        "colab": {
          "base_uri": "https://localhost:8080/"
        },
        "id": "ymI0NVpP5iNc",
        "outputId": "d599153e-0276-433d-910e-eae766f5f20f"
      },
      "execution_count": 20,
      "outputs": [
        {
          "output_type": "stream",
          "name": "stdout",
          "text": [
            "Unique values in country are ['Kenya' 'Rwanda' 'Tanzania' 'Uganda']\n",
            "Unique values in Has a Bank account are ['Yes' 'No']\n",
            "Unique values in Type of Location are ['Rural' 'Urban']\n",
            "Unique values in Cell Phone Access are ['Yes' 'No']\n",
            "Unique values in gender_of_respondent are ['Female' 'Male']\n",
            "Unique values in The relathip with head are ['Spouse' 'Head of Household' 'Other relative' 'Child' 'Parent'\n",
            " 'Other non-relatives']\n",
            "Unique values in marital_status are ['Married/Living together' 'Widowed' 'Single/Never Married'\n",
            " 'Divorced/Seperated' 'Dont know']\n",
            "Unique values in Level of Educuation are ['Secondary education' 'No formal education'\n",
            " 'Vocational/Specialised training' 'Primary education'\n",
            " 'Tertiary education' 'Other/Dont know/RTA' '6']\n",
            "Unique values in Type of Job are ['Self employed' 'Government Dependent' 'Formally employed Private'\n",
            " 'Informally employed' 'Formally employed Government'\n",
            " 'Farming and Fishing' 'Remittance Dependent' 'Other Income'\n",
            " 'Dont Know/Refuse to answer' 'No Income']\n"
          ]
        }
      ]
    },
    {
      "cell_type": "code",
      "source": [
        "#deleting the entry with 'Level of education' == 6\n",
        "#note: the '6' in this case is treated as a string variable\n",
        "Fin_df[Fin_df['Level of Educuation'] == '6'].count()\n",
        "#27 entries have \"6\" as a level of education"
      ],
      "metadata": {
        "colab": {
          "base_uri": "https://localhost:8080/"
        },
        "id": "bn2LSUax7tsZ",
        "outputId": "88ff4bae-ad3f-4f2f-a3ff-bb23f56f85c3"
      },
      "execution_count": 21,
      "outputs": [
        {
          "output_type": "execute_result",
          "data": {
            "text/plain": [
              "country                   27\n",
              "year                      27\n",
              "uniqueid                  27\n",
              "Has a Bank account        27\n",
              "Type of Location          27\n",
              "Cell Phone Access         27\n",
              "household_size            27\n",
              "Respondent Age            27\n",
              "gender_of_respondent      27\n",
              "The relathip with head    27\n",
              "marital_status            27\n",
              "Level of Educuation       27\n",
              "Type of Job               27\n",
              "dtype: int64"
            ]
          },
          "metadata": {},
          "execution_count": 21
        }
      ]
    },
    {
      "cell_type": "code",
      "source": [
        "#Although the levels of education denote hierarchy there is no way to prove that 6 (assuming it was an ordinal response) \n",
        "#could be higher up the heirarchy or low,\n",
        "#hence it is better to drop all variables with 6\n",
        "Fin_df =Fin_df[Fin_df['Level of Educuation'] != '6']\n",
        "Fin_df['Level of Educuation'].unique()"
      ],
      "metadata": {
        "colab": {
          "base_uri": "https://localhost:8080/"
        },
        "id": "IE4lhLLG_lLp",
        "outputId": "54fce84b-30a2-4a7b-bd8f-f59755fb3785"
      },
      "execution_count": 22,
      "outputs": [
        {
          "output_type": "execute_result",
          "data": {
            "text/plain": [
              "array(['Secondary education', 'No formal education',\n",
              "       'Vocational/Specialised training', 'Primary education',\n",
              "       'Tertiary education', 'Other/Dont know/RTA'], dtype=object)"
            ]
          },
          "metadata": {},
          "execution_count": 22
        }
      ]
    },
    {
      "cell_type": "code",
      "source": [
        "Fin_df.shape"
      ],
      "metadata": {
        "colab": {
          "base_uri": "https://localhost:8080/"
        },
        "id": "cvXVDnArTaLg",
        "outputId": "8fc5bc83-d30f-486c-c612-5925aaab81ed"
      },
      "execution_count": 23,
      "outputs": [
        {
          "output_type": "execute_result",
          "data": {
            "text/plain": [
              "(23316, 13)"
            ]
          },
          "metadata": {},
          "execution_count": 23
        }
      ]
    },
    {
      "cell_type": "markdown",
      "source": [
        "The data is now clean (i.e. free of anomalies, free of null values and detrimental outliers) It is safe to proceed to variable analysis.\n"
      ],
      "metadata": {
        "id": "yVa4qne_SvSl"
      }
    },
    {
      "cell_type": "markdown",
      "source": [
        "# Univariate Analysis"
      ],
      "metadata": {
        "id": "pwLPdGITTJ0Z"
      }
    },
    {
      "cell_type": "markdown",
      "source": [
        "**Categorical variables**"
      ],
      "metadata": {
        "id": "0GBoUeeHh9eQ"
      }
    },
    {
      "cell_type": "code",
      "source": [
        "#since my data is mostly categorical, the dominant method of visualization here will be bar plots.\n",
        "#Frequency tables for the given variables are right under the bar graphs, for ease of understanding of the visualizations.\n",
        "sns.countplot(Fin_df['country'])\n",
        "plt.title(\"Bar graph of countries of surveyed individuals\")\n",
        "plt.show()\n",
        "\n",
        "Fin_df['country'].value_counts()\n",
        "#most of the respondents are from Rwanda, followed by Tanzania, Kenya then Uganda."
      ],
      "metadata": {
        "id": "7qHrpVy1VJdX",
        "colab": {
          "base_uri": "https://localhost:8080/",
          "height": 436
        },
        "outputId": "3fb2aba6-8ff7-47f7-97a8-76ba608d32b1"
      },
      "execution_count": 24,
      "outputs": [
        {
          "output_type": "stream",
          "name": "stderr",
          "text": [
            "/usr/local/lib/python3.7/dist-packages/seaborn/_decorators.py:43: FutureWarning: Pass the following variable as a keyword arg: x. From version 0.12, the only valid positional argument will be `data`, and passing other arguments without an explicit keyword will result in an error or misinterpretation.\n",
            "  FutureWarning\n"
          ]
        },
        {
          "output_type": "display_data",
          "data": {
            "text/plain": [
              "<Figure size 432x288 with 1 Axes>"
            ],
            "image/png": "[encoded data removed]"
          },
          "metadata": {
            "needs_background": "light"
          }
        },
        {
          "output_type": "execute_result",
          "data": {
            "text/plain": [
              "Rwanda      8666\n",
              "Tanzania    6497\n",
              "Kenya       6064\n",
              "Uganda      2089\n",
              "Name: country, dtype: int64"
            ]
          },
          "metadata": {},
          "execution_count": 24
        }
      ]
    },
    {
      "cell_type": "code",
      "source": [
        "sns.countplot(Fin_df['Has a Bank account'])\n",
        "plt.title(\"Bar graph of surveyed individuals with bank accounts\")\n",
        "plt.show()\n",
        "\n",
        "Fin_df['Has a Bank account'].value_counts()\n",
        "#a disproportionate number of people do not have bank accounts"
      ],
      "metadata": {
        "colab": {
          "base_uri": "https://localhost:8080/",
          "height": 402
        },
        "id": "IV-KjUDFXWY9",
        "outputId": "eee4f022-81b6-46f2-da08-0329f34a11bb"
      },
      "execution_count": 25,
      "outputs": [
        {
          "output_type": "stream",
          "name": "stderr",
          "text": [
            "/usr/local/lib/python3.7/dist-packages/seaborn/_decorators.py:43: FutureWarning: Pass the following variable as a keyword arg: x. From version 0.12, the only valid positional argument will be `data`, and passing other arguments without an explicit keyword will result in an error or misinterpretation.\n",
            "  FutureWarning\n"
          ]
        },
        {
          "output_type": "display_data",
          "data": {
            "text/plain": [
              "<Figure size 432x288 with 1 Axes>"
            ],
            "image/png": "[encoded data removed]"
          },
          "metadata": {
            "needs_background": "light"
          }
        },
        {
          "output_type": "execute_result",
          "data": {
            "text/plain": [
              "No     20024\n",
              "Yes     3292\n",
              "Name: Has a Bank account, dtype: int64"
            ]
          },
          "metadata": {},
          "execution_count": 25
        }
      ]
    },
    {
      "cell_type": "code",
      "source": [
        "sns.countplot(Fin_df['Type of Location'])\n",
        "plt.title(\"Bar graph of surveyed individuals' location\")\n",
        "plt.show()\n",
        "\n",
        "Fin_df['Type of Location'].value_counts()\n",
        "#most of the respondents are from the rural parts of East Africa"
      ],
      "metadata": {
        "colab": {
          "base_uri": "https://localhost:8080/",
          "height": 402
        },
        "id": "ebnwuAstXWco",
        "outputId": "ccac5017-5662-45fa-ee7d-0bd0e59af7f2"
      },
      "execution_count": 26,
      "outputs": [
        {
          "output_type": "stream",
          "name": "stderr",
          "text": [
            "/usr/local/lib/python3.7/dist-packages/seaborn/_decorators.py:43: FutureWarning: Pass the following variable as a keyword arg: x. From version 0.12, the only valid positional argument will be `data`, and passing other arguments without an explicit keyword will result in an error or misinterpretation.\n",
            "  FutureWarning\n"
          ]
        },
        {
          "output_type": "display_data",
          "data": {
            "text/plain": [
              "<Figure size 432x288 with 1 Axes>"
            ],
            "image/png": "[encoded data removed]"
          },
          "metadata": {
            "needs_background": "light"
          }
        },
        {
          "output_type": "execute_result",
          "data": {
            "text/plain": [
              "Rural    14248\n",
              "Urban     9068\n",
              "Name: Type of Location, dtype: int64"
            ]
          },
          "metadata": {},
          "execution_count": 26
        }
      ]
    },
    {
      "cell_type": "code",
      "source": [
        "sns.countplot(Fin_df['Cell Phone Access'])\n",
        "plt.title(\"Bar graph of surveyed individuals' cell phone access\")\n",
        "plt.show()\n",
        "\n",
        "Fin_df['Cell Phone Access'].value_counts()\n",
        "#most of the respondents have access to cell phones"
      ],
      "metadata": {
        "colab": {
          "base_uri": "https://localhost:8080/",
          "height": 402
        },
        "id": "fgnmx_F3XWiu",
        "outputId": "4fa50813-90ea-4a9b-ff8b-693f216f4c3d"
      },
      "execution_count": 27,
      "outputs": [
        {
          "output_type": "stream",
          "name": "stderr",
          "text": [
            "/usr/local/lib/python3.7/dist-packages/seaborn/_decorators.py:43: FutureWarning: Pass the following variable as a keyword arg: x. From version 0.12, the only valid positional argument will be `data`, and passing other arguments without an explicit keyword will result in an error or misinterpretation.\n",
            "  FutureWarning\n"
          ]
        },
        {
          "output_type": "display_data",
          "data": {
            "text/plain": [
              "<Figure size 432x288 with 1 Axes>"
            ],
            "image/png": "[encoded data removed]"
          },
          "metadata": {
            "needs_background": "light"
          }
        },
        {
          "output_type": "execute_result",
          "data": {
            "text/plain": [
              "Yes    17318\n",
              "No      5998\n",
              "Name: Cell Phone Access, dtype: int64"
            ]
          },
          "metadata": {},
          "execution_count": 27
        }
      ]
    },
    {
      "cell_type": "code",
      "source": [
        "sns.countplot(Fin_df['gender_of_respondent'])\n",
        "plt.title(\"Bar graph of surveyed individuals' gender\")\n",
        "plt.show()\n",
        "\n",
        "Fin_df['gender_of_respondent'].value_counts()\n",
        "#most of the respondents are female"
      ],
      "metadata": {
        "colab": {
          "base_uri": "https://localhost:8080/",
          "height": 403
        },
        "id": "hI0zwDB2XWsA",
        "outputId": "9eaac44d-04de-45a4-89e8-c81a1227b51a"
      },
      "execution_count": 28,
      "outputs": [
        {
          "output_type": "stream",
          "name": "stderr",
          "text": [
            "/usr/local/lib/python3.7/dist-packages/seaborn/_decorators.py:43: FutureWarning: Pass the following variable as a keyword arg: x. From version 0.12, the only valid positional argument will be `data`, and passing other arguments without an explicit keyword will result in an error or misinterpretation.\n",
            "  FutureWarning\n"
          ]
        },
        {
          "output_type": "display_data",
          "data": {
            "text/plain": [
              "<Figure size 432x288 with 1 Axes>"
            ],
            "image/png": "[encoded data removed]"
          },
          "metadata": {
            "needs_background": "light"
          }
        },
        {
          "output_type": "execute_result",
          "data": {
            "text/plain": [
              "Female    13749\n",
              "Male       9567\n",
              "Name: gender_of_respondent, dtype: int64"
            ]
          },
          "metadata": {},
          "execution_count": 28
        }
      ]
    },
    {
      "cell_type": "code",
      "source": [
        "sns.countplot(y = Fin_df['The relathip with head'])\n",
        "plt.title(\"Bar graph of surveyed individuals' relationship with the head of the household\")\n",
        "plt.show()\n",
        "\n",
        "Fin_df['The relathip with head'].value_counts()\n",
        "#most of the respondents are heads of their households."
      ],
      "metadata": {
        "colab": {
          "base_uri": "https://localhost:8080/",
          "height": 416
        },
        "id": "AcYBXiymXWwM",
        "outputId": "6e6c69e0-8344-4234-c57a-e7752102b8cd"
      },
      "execution_count": 29,
      "outputs": [
        {
          "output_type": "display_data",
          "data": {
            "text/plain": [
              "<Figure size 432x288 with 1 Axes>"
            ],
            "image/png": "[encoded data removed]"
          },
          "metadata": {
            "needs_background": "light"
          }
        },
        {
          "output_type": "execute_result",
          "data": {
            "text/plain": [
              "Head of Household      12715\n",
              "Spouse                  6460\n",
              "Child                   2221\n",
              "Parent                  1069\n",
              "Other relative           662\n",
              "Other non-relatives      189\n",
              "Name: The relathip with head, dtype: int64"
            ]
          },
          "metadata": {},
          "execution_count": 29
        }
      ]
    },
    {
      "cell_type": "code",
      "source": [
        "sns.countplot(y = Fin_df['marital_status'])\n",
        "plt.title(\"Bar graph of surveyed individuals' marital status\")\n",
        "plt.show()\n",
        "\n",
        "Fin_df['marital_status'].value_counts()\n",
        "#most od the respondents are married/living together"
      ],
      "metadata": {
        "colab": {
          "base_uri": "https://localhost:8080/",
          "height": 399
        },
        "id": "CgjtFEN7XW01",
        "outputId": "4775c3b0-96fc-481b-b615-2d211cbac624"
      },
      "execution_count": 30,
      "outputs": [
        {
          "output_type": "display_data",
          "data": {
            "text/plain": [
              "<Figure size 432x288 with 1 Axes>"
            ],
            "image/png": "[encoded data removed]"
          },
          "metadata": {
            "needs_background": "light"
          }
        },
        {
          "output_type": "execute_result",
          "data": {
            "text/plain": [
              "Married/Living together    10684\n",
              "Single/Never Married        7900\n",
              "Widowed                     2677\n",
              "Divorced/Seperated          2047\n",
              "Dont know                      8\n",
              "Name: marital_status, dtype: int64"
            ]
          },
          "metadata": {},
          "execution_count": 30
        }
      ]
    },
    {
      "cell_type": "code",
      "source": [
        "sns.countplot(y = Fin_df['Level of Educuation'])\n",
        "plt.title(\"Bar graph of surveyed individuals' Level of education\")\n",
        "plt.show()\n",
        "\n",
        "Fin_df['Level of Educuation'].value_counts()\n",
        "#most of the respondents had attained primary school education as their highest level of education"
      ],
      "metadata": {
        "colab": {
          "base_uri": "https://localhost:8080/",
          "height": 416
        },
        "id": "rGSZWuMqXW6D",
        "outputId": "3093899d-7415-4b95-b368-347435b4c708"
      },
      "execution_count": 31,
      "outputs": [
        {
          "output_type": "display_data",
          "data": {
            "text/plain": [
              "<Figure size 432x288 with 1 Axes>"
            ],
            "image/png": "[encoded data removed]"
          },
          "metadata": {
            "needs_background": "light"
          }
        },
        {
          "output_type": "execute_result",
          "data": {
            "text/plain": [
              "Primary education                  12689\n",
              "No formal education                 4467\n",
              "Secondary education                 4207\n",
              "Tertiary education                  1144\n",
              "Vocational/Specialised training      801\n",
              "Other/Dont know/RTA                    8\n",
              "Name: Level of Educuation, dtype: int64"
            ]
          },
          "metadata": {},
          "execution_count": 31
        }
      ]
    },
    {
      "cell_type": "code",
      "source": [
        "sns.countplot(y = Fin_df['Type of Job'])\n",
        "plt.title(\"Bar graph of surveyed individuals' type of job\")\n",
        "plt.show()\n",
        "\n",
        "Fin_df['Type of Job'].value_counts()\n",
        "#most of the respondents are self-employed, followed closely by respndents who are either informally employed or engage in farming and fishing\n"
      ],
      "metadata": {
        "colab": {
          "base_uri": "https://localhost:8080/",
          "height": 486
        },
        "id": "XMXC6NdBXW-h",
        "outputId": "115e602a-cace-4f16-9cbf-de23a4a16dd0"
      },
      "execution_count": 32,
      "outputs": [
        {
          "output_type": "display_data",
          "data": {
            "text/plain": [
              "<Figure size 432x288 with 1 Axes>"
            ],
            "image/png": "[encoded data removed]"
          },
          "metadata": {
            "needs_background": "light"
          }
        },
        {
          "output_type": "execute_result",
          "data": {
            "text/plain": [
              "Self employed                   6357\n",
              "Informally employed             5535\n",
              "Farming and Fishing             5422\n",
              "Remittance Dependent            2507\n",
              "Other Income                    1076\n",
              "Formally employed Private       1047\n",
              "No Income                        615\n",
              "Formally employed Government     386\n",
              "Government Dependent             246\n",
              "Dont Know/Refuse to answer       125\n",
              "Name: Type of Job, dtype: int64"
            ]
          },
          "metadata": {},
          "execution_count": 32
        }
      ]
    },
    {
      "cell_type": "code",
      "source": [
        "#Later took an interest in how much of the data is from which specific year, so I chose to analyze this variable like a categorical vairable as well\n",
        "sns.countplot(Fin_df['year'])\n",
        "plt.title(\"Bar graph of the uear in which respondents were surveyed\")\n",
        "plt.show()\n",
        "\n",
        "Fin_df['year'].value_counts()\n",
        "#The highest number of responses are from 2016"
      ],
      "metadata": {
        "colab": {
          "base_uri": "https://localhost:8080/",
          "height": 419
        },
        "id": "0kK1ZXWnb-tv",
        "outputId": "2765d4b2-eb07-471e-9bdb-483bad77578d"
      },
      "execution_count": 33,
      "outputs": [
        {
          "output_type": "stream",
          "name": "stderr",
          "text": [
            "/usr/local/lib/python3.7/dist-packages/seaborn/_decorators.py:43: FutureWarning: Pass the following variable as a keyword arg: x. From version 0.12, the only valid positional argument will be `data`, and passing other arguments without an explicit keyword will result in an error or misinterpretation.\n",
            "  FutureWarning\n"
          ]
        },
        {
          "output_type": "display_data",
          "data": {
            "text/plain": [
              "<Figure size 432x288 with 1 Axes>"
            ],
            "image/png": "[encoded data removed]"
          },
          "metadata": {
            "needs_background": "light"
          }
        },
        {
          "output_type": "execute_result",
          "data": {
            "text/plain": [
              "2016    8666\n",
              "2018    8153\n",
              "2017    6497\n",
              "Name: year, dtype: int64"
            ]
          },
          "metadata": {},
          "execution_count": 33
        }
      ]
    },
    {
      "cell_type": "markdown",
      "source": [
        "**Numerical variables**\n",
        "\n",
        "There are three variables with numerical datatypes according to the dataframe.info(), namely \"year', \"household_size\" and \"Respondent Age\". The 'year' attribute is best if treated like a categorical variable (so this is something that will need to be altered during multivariate analysis and the subsequent prediction). Unique_id should ideally be a nmumerical variable, however, its function is overlapping with the dataframe index and can in fact be dropped, to ease up analysis tasks later. These are the reasons why I will only explore \"household size\" and \"Respondent Age\" in this section, as they are the only truly numerical variables."
      ],
      "metadata": {
        "id": "MKlmMKsfkzVQ"
      }
    },
    {
      "cell_type": "code",
      "source": [
        "#analysing 'household size'.\n",
        "\n",
        "#measures of central tendency\n",
        "#mean\n",
        "mean = Fin_df['household_size'].mean()\n",
        "\n",
        "#median\n",
        "med = Fin_df['household_size'].median()\n",
        "\n",
        "#mode\n",
        "mod = Fin_df['household_size'].mode()\n",
        "\n",
        "print(\"For the column 'household size' Mean is,\", mean,\"median is,\",med,\"and mode is\",mod)\n",
        "#The average number of people per household is 3.6885 (~4 people), the median value is 3, while most housholds have 2 people."
      ],
      "metadata": {
        "colab": {
          "base_uri": "https://localhost:8080/"
        },
        "id": "-A7wirtmnqVN",
        "outputId": "d73a79ec-d60a-4f53-d0dc-027a32c3aca1"
      },
      "execution_count": 34,
      "outputs": [
        {
          "output_type": "stream",
          "name": "stdout",
          "text": [
            "For the column 'household size' Mean is, 3.688497169325785 median is, 3.0 and mode is 0    2.0\n",
            "dtype: float64\n"
          ]
        }
      ]
    },
    {
      "cell_type": "code",
      "source": [
        "#I initailly thought that the mode was zero, which made me to look into how many people could have responded with zero to this question.\n",
        "#Since it's not possible to have a househols with no people in it, I chose to delete those entries as it doesn't make sense logically\n",
        "Fin_df[Fin_df['household_size'] == 0].count()\n",
        "#There are 36 such entries in the dataset and given the size of the dataset it should not affect the representative nature of the dataset\n",
        "Fin_df = Fin_df[Fin_df['household_size'] != 0]\n",
        "Fin_df.shape\n",
        "\n",
        "#note: This did not affect the previously calculated measures of cetral tendency. Mean was still approximately 3.69, mode was 3 and median is 2."
      ],
      "metadata": {
        "colab": {
          "base_uri": "https://localhost:8080/"
        },
        "id": "qf49pUkTsYoQ",
        "outputId": "f961f8fc-6069-4ded-db42-96e28bb1dc17"
      },
      "execution_count": 35,
      "outputs": [
        {
          "output_type": "execute_result",
          "data": {
            "text/plain": [
              "(23280, 13)"
            ]
          },
          "metadata": {},
          "execution_count": 35
        }
      ]
    },
    {
      "cell_type": "code",
      "source": [
        "#measures of dispersion for 'household size'.\n",
        "\n",
        "#Variance \n",
        "variance = Fin_df['household_size'].var()\n",
        "print('Variance is:',+variance)\n",
        "\n",
        "#standard deviation\n",
        "standard_dev = Fin_df['household_size'].std()\n",
        "print('Standard deviation is:',+standard_dev)\n",
        "\n",
        "#finding range\n",
        "max_hs = Fin_df['household_size'].max()\n",
        "min_hs = Fin_df['household_size'].min()\n",
        "print('The minimum and maximum for household size is:',+min_hs,'and',+max_hs,'respectivelly.')\n",
        "\n",
        "rng = max_hs - min_hs\n",
        "print('The range for household size is:',+rng)\n",
        "\n",
        "#finding Inter-qaurtile range\n",
        "Q1_hs, Q2_hs, Q3_hs = Fin_df['household_size'].quantile([0.25,0.5,0.75])\n",
        "IQR = Q3_hs - Q1_hs\n",
        "print('Interquartile range for household size is:',+IQR)"
      ],
      "metadata": {
        "colab": {
          "base_uri": "https://localhost:8080/"
        },
        "id": "UYuQhhzSret9",
        "outputId": "6e1cd8dc-ec24-4bb3-e61c-c2b33d576f27"
      },
      "execution_count": 36,
      "outputs": [
        {
          "output_type": "stream",
          "name": "stdout",
          "text": [
            "Variance is: 5.188797505872882\n",
            "Standard deviation is: 2.2778932165211088\n",
            "The minimum and maximum for household size is: 1.0 and 21.0 respectivelly.\n",
            "The range for household size is: 20.0\n",
            "Interquartile range for household size is: 3.0\n"
          ]
        }
      ]
    },
    {
      "cell_type": "code",
      "source": [
        "#Calculating skewness and kurtosis for 'household size'.\n",
        "sk= Fin_df['household_size'].skew()\n",
        "ku= Fin_df['household_size'].kurt()\n",
        "\n",
        "print('Skewness is:',+sk,'and kurtosis is',+ku,'for the column household size')\n",
        "#The skewness has a score of ~1.0, this means that the data has a moderate positive skew \n",
        "#i.e. it is relativley symmetrical in comparison to a normal distribution with a slight tail to the right\n",
        "#The kurtosis score is ~1.16, this is less than the score for a normal distribution, which is 3\n",
        "#Hence the data is platykurtic and it tends to produce fewer and less extreme outliers than the normal distribution."
      ],
      "metadata": {
        "id": "HRuyc4BW6lp6",
        "colab": {
          "base_uri": "https://localhost:8080/"
        },
        "outputId": "3fd8ff77-9260-429d-b9ef-e70b6ed74c7e"
      },
      "execution_count": 37,
      "outputs": [
        {
          "output_type": "stream",
          "name": "stdout",
          "text": [
            "Skewness is: 0.9779589032417252 and kurtosis is 1.1599104517805614 for the column household size\n"
          ]
        }
      ]
    },
    {
      "cell_type": "code",
      "source": [
        "#Calculating the summary statistics for 'Respondent Age'.\n",
        "\n",
        "#measures of central tendency\n",
        "#mean\n",
        "mean = Fin_df['Respondent Age'].mean()\n",
        "\n",
        "#median\n",
        "med = Fin_df['Respondent Age'].median()\n",
        "\n",
        "#mode\n",
        "mod = Fin_df['Respondent Age'].mode()\n",
        "\n",
        "print(\"For the column 'Respondent Age' Mean is,\", mean,\"median is,\",med,\"and mode is\",mod)\n",
        "#The mean age of the respondents is 38.76, the median is 35 and the mode is 30."
      ],
      "metadata": {
        "colab": {
          "base_uri": "https://localhost:8080/"
        },
        "id": "8s0YbK_ifs0H",
        "outputId": "3d73d33b-f8cb-4166-ca54-c6cce0d805a2"
      },
      "execution_count": 38,
      "outputs": [
        {
          "output_type": "stream",
          "name": "stdout",
          "text": [
            "For the column 'Respondent Age' Mean is, 38.76546391752577 median is, 35.0 and mode is 0    30.0\n",
            "dtype: float64\n"
          ]
        }
      ]
    },
    {
      "cell_type": "code",
      "source": [
        "#measures of dispersion for 'Respondent Age'.\n",
        "\n",
        "#Variance \n",
        "variance = Fin_df['Respondent Age'].var()\n",
        "print('Variance is:',+variance)\n",
        "\n",
        "#standard deviation\n",
        "standard_dev = Fin_df['Respondent Age'].std()\n",
        "print('Standard deviation is:',+standard_dev)\n",
        "\n",
        "#finding range\n",
        "max_ra = Fin_df['Respondent Age'].max()\n",
        "min_ra = Fin_df['Respondent Age'].min()\n",
        "print('The minimum and maximum values are',+min_ra,'and',+max_ra,'respectively.')\n",
        "\n",
        "rng = max_ra - min_ra\n",
        "print(\"The range of the respondents' age is\",+rng)\n",
        "\n",
        "#finding Inter-qaurtile range\n",
        "Q1_ra, Q2_ra, Q3_ra = Fin_df['Respondent Age'].quantile([0.25,0.5,0.75])\n",
        "IQR = Q3_ra - Q1_ra\n",
        "print('The interquantile range is',+IQR)"
      ],
      "metadata": {
        "colab": {
          "base_uri": "https://localhost:8080/"
        },
        "outputId": "62246329-fec1-421b-bd8c-827863fe1d92",
        "id": "7hvsjih787WZ"
      },
      "execution_count": 39,
      "outputs": [
        {
          "output_type": "stream",
          "name": "stdout",
          "text": [
            "Variance is: 271.4200538249095\n",
            "Standard deviation is: 16.474830919463468\n",
            "The minimum and maximum values are 16.0 and 100.0 respectively.\n",
            "The range of the respondents' age is 84.0\n",
            "The interquantile range is 23.0\n"
          ]
        }
      ]
    },
    {
      "cell_type": "code",
      "source": [
        "#Calculating skewness and kurtosis for 'Respondent Age'.\n",
        "sk= Fin_df['Respondent Age'].skew()\n",
        "ku= Fin_df['Respondent Age'].kurt()\n",
        "\n",
        "print('The skewness is',+sk,'and the kurtosis is',+ku,\"for the respondents' age column\")\n",
        "#The data in the column is moderately positively skewed i.e. it has a slight tail to the right\n",
        "#The data in the column is very thin tailed and doesn't have extreme outliers in comparison to the normal distribution"
      ],
      "metadata": {
        "id": "sAK7kzsQ91Gn",
        "colab": {
          "base_uri": "https://localhost:8080/"
        },
        "outputId": "3ea08760-c8e9-4724-ac33-6251a8ed2861"
      },
      "execution_count": 40,
      "outputs": [
        {
          "output_type": "stream",
          "name": "stdout",
          "text": [
            "The skewness is 0.8388653119192585 and the kurtosis is 0.0953368515789399 for the respondents' age column\n"
          ]
        }
      ]
    },
    {
      "cell_type": "code",
      "source": [
        "#distribution plots for the two numerical variables\n",
        "col_names = ['household_size','Respondent Age']\n",
        "fig, ax = plt.subplots(len(col_names), figsize=(16,12))\n",
        "\n",
        "for i,col_val in enumerate(col_names):\n",
        "\n",
        "    sns.distplot(Fin_df[col_val],hist = True, ax=ax[i])\n",
        "    ax[i].set_title('Freq dist '+col_val, fontsize=10)\n",
        "    ax[i].set_xlabel(col_val, fontsize=8)\n",
        "    ax[i].set_ylabel('Count', fontsize=8)\n",
        "\n",
        "plt.show()\n",
        "\n",
        "#Both features are right skewed"
      ],
      "metadata": {
        "colab": {
          "base_uri": "https://localhost:8080/",
          "height": 816
        },
        "id": "wIFyYQRJkZD5",
        "outputId": "95221b10-0b8d-45c3-a612-39f6fb23287c"
      },
      "execution_count": 41,
      "outputs": [
        {
          "output_type": "stream",
          "name": "stderr",
          "text": [
            "/usr/local/lib/python3.7/dist-packages/seaborn/distributions.py:2619: FutureWarning: `distplot` is a deprecated function and will be removed in a future version. Please adapt your code to use either `displot` (a figure-level function with similar flexibility) or `histplot` (an axes-level function for histograms).\n",
            "  warnings.warn(msg, FutureWarning)\n",
            "/usr/local/lib/python3.7/dist-packages/seaborn/distributions.py:2619: FutureWarning: `distplot` is a deprecated function and will be removed in a future version. Please adapt your code to use either `displot` (a figure-level function with similar flexibility) or `histplot` (an axes-level function for histograms).\n",
            "  warnings.warn(msg, FutureWarning)\n"
          ]
        },
        {
          "output_type": "display_data",
          "data": {
            "text/plain": [
              "<Figure size 1152x864 with 2 Axes>"
            ],
            "image/png": "[encoded data removed]"
          },
          "metadata": {
            "needs_background": "light"
          }
        }
      ]
    },
    {
      "cell_type": "markdown",
      "source": [
        "# Bivariate Analysis"
      ],
      "metadata": {
        "id": "BoPhlwoe6cVJ"
      }
    },
    {
      "cell_type": "code",
      "source": [
        "#carrying out the bivariate analysis using sns.pairplot().\n",
        "#I chose to drop the uniqueid attribute because it doesn't add any value as the dataframe is already indexed.\n",
        "#Also,with all of the null values that have been dropped during EDA, the 'uniqueid' attribute is illogical.\n",
        "\n",
        "Fin_df = Fin_df.drop(['uniqueid'], axis = 1)"
      ],
      "metadata": {
        "id": "Lobmp6Ia6hvO"
      },
      "execution_count": 42,
      "outputs": []
    },
    {
      "cell_type": "code",
      "source": [
        "sns.pairplot(Fin_df)\n",
        "\n",
        "#Nothing really stood out in the output."
      ],
      "metadata": {
        "colab": {
          "base_uri": "https://localhost:8080/",
          "height": 567
        },
        "id": "UAfDobpjCHZU",
        "outputId": "1de301b7-f377-450b-d556-190bd90c9733"
      },
      "execution_count": 43,
      "outputs": [
        {
          "output_type": "execute_result",
          "data": {
            "text/plain": [
              "<seaborn.axisgrid.PairGrid at 0x7fc964195350>"
            ]
          },
          "metadata": {},
          "execution_count": 43
        },
        {
          "output_type": "display_data",
          "data": {
            "text/plain": [
              "<Figure size 540x540 with 12 Axes>"
            ],
            "image/png": "[encoded data removed]"
          },
          "metadata": {
            "needs_background": "light"
          }
        }
      ]
    },
    {
      "cell_type": "code",
      "source": [
        "#I chose to first start by analysing the target variable which is \"Has a Bank account\", against the other variables which will become our feature variables.\n",
        "\n",
        "#visualizing the number of respondents from each country and their bank account ownership status\n",
        "Fin_df['Has a Bank account'].value_counts()\n",
        "sns.countplot(x='country',hue='Has a Bank account',data= Fin_df)\n",
        "#it is intersting that Kenya has the highest number of bank account owners yet response-wise,\n",
        "# the number of respondents from Kenya are less than those from Rwanda and Tanzania"
      ],
      "metadata": {
        "colab": {
          "base_uri": "https://localhost:8080/",
          "height": 299
        },
        "id": "z2EQQzpDPpcy",
        "outputId": "89f02018-e825-4a15-ce51-53eda20b8e03"
      },
      "execution_count": 44,
      "outputs": [
        {
          "output_type": "execute_result",
          "data": {
            "text/plain": [
              "<AxesSubplot:xlabel='country', ylabel='count'>"
            ]
          },
          "metadata": {},
          "execution_count": 44
        },
        {
          "output_type": "display_data",
          "data": {
            "text/plain": [
              "<Figure size 432x288 with 1 Axes>"
            ],
            "image/png": "[encoded data removed]"
          },
          "metadata": {
            "needs_background": "light"
          }
        }
      ]
    },
    {
      "cell_type": "code",
      "source": [
        "#checking for the number of people who had bank accounts over the course of the three years\n",
        "Fin_df['Has a Bank account'].value_counts()\n",
        "sns.countplot(x='year',hue='Has a Bank account',data= Fin_df)\n",
        "#The number of bank account owners might have increased over the years because while 2016 had the mostr respondents,\n",
        "#the number of bank owners for 2018 are higher. 2017 had the lowest number of respondents so it makes sense why it has the lowest numbers for both bank account ownership and those who don't own bank accounts"
      ],
      "metadata": {
        "colab": {
          "base_uri": "https://localhost:8080/",
          "height": 299
        },
        "id": "QDvnPSd2VluG",
        "outputId": "c08dbf0d-e988-4483-a79a-9ad03d10dae5"
      },
      "execution_count": 45,
      "outputs": [
        {
          "output_type": "execute_result",
          "data": {
            "text/plain": [
              "<AxesSubplot:xlabel='year', ylabel='count'>"
            ]
          },
          "metadata": {},
          "execution_count": 45
        },
        {
          "output_type": "display_data",
          "data": {
            "text/plain": [
              "<Figure size 432x288 with 1 Axes>"
            ],
            "image/png": "[encoded data removed]"
          },
          "metadata": {
            "needs_background": "light"
          }
        }
      ]
    },
    {
      "cell_type": "code",
      "source": [
        "Fin_df['Has a Bank account'].value_counts()\n",
        "sns.countplot(x='Type of Location',hue='Has a Bank account',data= Fin_df)\n",
        "#Despite most of the respondents coming from the rural areas,\n",
        "#it seems like bank account ownership for both rural and urban areas is almost equal"
      ],
      "metadata": {
        "colab": {
          "base_uri": "https://localhost:8080/",
          "height": 296
        },
        "id": "1mAgSjPUV_y7",
        "outputId": "612ca455-5ddf-423c-c39f-d72322f6db1b"
      },
      "execution_count": 46,
      "outputs": [
        {
          "output_type": "execute_result",
          "data": {
            "text/plain": [
              "<AxesSubplot:xlabel='Type of Location', ylabel='count'>"
            ]
          },
          "metadata": {},
          "execution_count": 46
        },
        {
          "output_type": "display_data",
          "data": {
            "text/plain": [
              "<Figure size 432x288 with 1 Axes>"
            ],
            "image/png": "[encoded data removed]"
          },
          "metadata": {
            "needs_background": "light"
          }
        }
      ]
    },
    {
      "cell_type": "code",
      "source": [
        "Fin_df['Has a Bank account'].value_counts()\n",
        "sns.countplot(x='Cell Phone Access',hue='Has a Bank account',data= Fin_df)\n",
        "#most of the respondents who have bank accounts also have cell phone access"
      ],
      "metadata": {
        "colab": {
          "base_uri": "https://localhost:8080/",
          "height": 296
        },
        "id": "ouHkAXYoWRMt",
        "outputId": "21087805-88a7-4701-9fd1-aed3ffedd32a"
      },
      "execution_count": 47,
      "outputs": [
        {
          "output_type": "execute_result",
          "data": {
            "text/plain": [
              "<AxesSubplot:xlabel='Cell Phone Access', ylabel='count'>"
            ]
          },
          "metadata": {},
          "execution_count": 47
        },
        {
          "output_type": "display_data",
          "data": {
            "text/plain": [
              "<Figure size 432x288 with 1 Axes>"
            ],
            "image/png": "[encoded data removed]"
          },
          "metadata": {
            "needs_background": "light"
          }
        }
      ]
    },
    {
      "cell_type": "code",
      "source": [
        "Fin_df['Has a Bank account'].value_counts()\n",
        "sns.countplot(y='household_size',hue='Has a Bank account',data= Fin_df)\n",
        "#the likelihood of someone having a bank account decreases as the household size increases"
      ],
      "metadata": {
        "colab": {
          "base_uri": "https://localhost:8080/",
          "height": 296
        },
        "id": "33O6SA-NWglR",
        "outputId": "738cd759-7f36-4695-b148-15c48c80f9b6"
      },
      "execution_count": 48,
      "outputs": [
        {
          "output_type": "execute_result",
          "data": {
            "text/plain": [
              "<AxesSubplot:xlabel='count', ylabel='household_size'>"
            ]
          },
          "metadata": {},
          "execution_count": 48
        },
        {
          "output_type": "display_data",
          "data": {
            "text/plain": [
              "<Figure size 432x288 with 1 Axes>"
            ],
            "image/png": "[encoded data removed]"
          },
          "metadata": {
            "needs_background": "light"
          }
        }
      ]
    },
    {
      "cell_type": "code",
      "source": [
        "Fin_df['Has a Bank account'].value_counts()\n",
        "sns.countplot(x='gender_of_respondent',hue='Has a Bank account',data= Fin_df)\n",
        "#despite there being more female respondents there are still less female bank account owners than male bank account owners"
      ],
      "metadata": {
        "colab": {
          "base_uri": "https://localhost:8080/",
          "height": 297
        },
        "id": "UBWnShlAW_xM",
        "outputId": "7e2bd8eb-f26d-4a38-da57-e8b59f12bcd3"
      },
      "execution_count": 49,
      "outputs": [
        {
          "output_type": "execute_result",
          "data": {
            "text/plain": [
              "<AxesSubplot:xlabel='gender_of_respondent', ylabel='count'>"
            ]
          },
          "metadata": {},
          "execution_count": 49
        },
        {
          "output_type": "display_data",
          "data": {
            "text/plain": [
              "<Figure size 432x288 with 1 Axes>"
            ],
            "image/png": "[encoded data removed]"
          },
          "metadata": {
            "needs_background": "light"
          }
        }
      ]
    },
    {
      "cell_type": "code",
      "source": [
        "Fin_df['Has a Bank account'].value_counts()\n",
        "sns.countplot(y='The relathip with head',hue='Has a Bank account',data= Fin_df)\n",
        "#most of the bank account owners are the head of their households"
      ],
      "metadata": {
        "colab": {
          "base_uri": "https://localhost:8080/",
          "height": 296
        },
        "id": "RCHBgmOPXWjI",
        "outputId": "4c334388-f521-40a1-9f35-5be9dd0bd0c6"
      },
      "execution_count": 50,
      "outputs": [
        {
          "output_type": "execute_result",
          "data": {
            "text/plain": [
              "<AxesSubplot:xlabel='count', ylabel='The relathip with head'>"
            ]
          },
          "metadata": {},
          "execution_count": 50
        },
        {
          "output_type": "display_data",
          "data": {
            "text/plain": [
              "<Figure size 432x288 with 1 Axes>"
            ],
            "image/png": "[encoded data removed]"
          },
          "metadata": {
            "needs_background": "light"
          }
        }
      ]
    },
    {
      "cell_type": "code",
      "source": [
        "Fin_df['Has a Bank account'].value_counts()\n",
        "sns.countplot(y='marital_status',hue='Has a Bank account',data= Fin_df)\n",
        "#most bank account owners are married/living together"
      ],
      "metadata": {
        "colab": {
          "base_uri": "https://localhost:8080/",
          "height": 296
        },
        "id": "0jfKhO3cX7ox",
        "outputId": "bcfc0943-3964-4ff3-916c-42bc59c34cd2"
      },
      "execution_count": 51,
      "outputs": [
        {
          "output_type": "execute_result",
          "data": {
            "text/plain": [
              "<AxesSubplot:xlabel='count', ylabel='marital_status'>"
            ]
          },
          "metadata": {},
          "execution_count": 51
        },
        {
          "output_type": "display_data",
          "data": {
            "text/plain": [
              "<Figure size 432x288 with 1 Axes>"
            ],
            "image/png": "[encoded data removed]"
          },
          "metadata": {
            "needs_background": "light"
          }
        }
      ]
    },
    {
      "cell_type": "code",
      "source": [
        "Fin_df['Has a Bank account'].value_counts()\n",
        "sns.countplot(y='Level of Educuation',hue='Has a Bank account',data= Fin_df)\n",
        "#most bank account owners have primary level of education but that is probably because most of the respondents have primary education\n",
        "#It is interesting that for the individuals with tertiary education and vocational/specialised training, more have bank accounts than those who don't."
      ],
      "metadata": {
        "colab": {
          "base_uri": "https://localhost:8080/",
          "height": 296
        },
        "id": "mHpaeRJ8YEzB",
        "outputId": "d4296003-28a3-4b83-e4d4-d84c62094154"
      },
      "execution_count": 52,
      "outputs": [
        {
          "output_type": "execute_result",
          "data": {
            "text/plain": [
              "<AxesSubplot:xlabel='count', ylabel='Level of Educuation'>"
            ]
          },
          "metadata": {},
          "execution_count": 52
        },
        {
          "output_type": "display_data",
          "data": {
            "text/plain": [
              "<Figure size 432x288 with 1 Axes>"
            ],
            "image/png": "[encoded data removed]"
          },
          "metadata": {
            "needs_background": "light"
          }
        }
      ]
    },
    {
      "cell_type": "code",
      "source": [
        "Fin_df['Has a Bank account'].value_counts()\n",
        "sns.countplot(y='Type of Job',hue='Has a Bank account',data= Fin_df)"
      ],
      "metadata": {
        "colab": {
          "base_uri": "https://localhost:8080/",
          "height": 296
        },
        "id": "pz9B8ejzYnRL",
        "outputId": "4b9efc7c-eec3-4906-907c-a35f3feb2f3b"
      },
      "execution_count": 53,
      "outputs": [
        {
          "output_type": "execute_result",
          "data": {
            "text/plain": [
              "<AxesSubplot:xlabel='count', ylabel='Type of Job'>"
            ]
          },
          "metadata": {},
          "execution_count": 53
        },
        {
          "output_type": "display_data",
          "data": {
            "text/plain": [
              "<Figure size 432x288 with 1 Axes>"
            ],
            "image/png": "[encoded data removed]"
          },
          "metadata": {
            "needs_background": "light"
          }
        }
      ]
    },
    {
      "cell_type": "code",
      "source": [
        "#analyzing respondent age against bank account ownership\n",
        "sns.violinplot(x=\"Has a Bank account\", y=\"Respondent Age\", data=Fin_df,palette='rainbow')\n",
        "#Bank account owners are more likely to be in their 30s"
      ],
      "metadata": {
        "colab": {
          "base_uri": "https://localhost:8080/",
          "height": 296
        },
        "id": "s21choBLbsLF",
        "outputId": "8a50f8e0-8a42-4276-8463-ce650207a59c"
      },
      "execution_count": 54,
      "outputs": [
        {
          "output_type": "execute_result",
          "data": {
            "text/plain": [
              "<AxesSubplot:xlabel='Has a Bank account', ylabel='Respondent Age'>"
            ]
          },
          "metadata": {},
          "execution_count": 54
        },
        {
          "output_type": "display_data",
          "data": {
            "text/plain": [
              "<Figure size 432x288 with 1 Axes>"
            ],
            "image/png": "[encoded data removed]"
          },
          "metadata": {
            "needs_background": "light"
          }
        }
      ]
    },
    {
      "cell_type": "code",
      "source": [
        "sns.boxplot(x='Has a Bank account',y='Respondent Age',data=Fin_df,palette='rainbow')"
      ],
      "metadata": {
        "colab": {
          "base_uri": "https://localhost:8080/",
          "height": 296
        },
        "id": "gVRdH6cPi4E9",
        "outputId": "6be759c2-4eac-429e-efd8-944a45ae0b7c"
      },
      "execution_count": 55,
      "outputs": [
        {
          "output_type": "execute_result",
          "data": {
            "text/plain": [
              "<AxesSubplot:xlabel='Has a Bank account', ylabel='Respondent Age'>"
            ]
          },
          "metadata": {},
          "execution_count": 55
        },
        {
          "output_type": "display_data",
          "data": {
            "text/plain": [
              "<Figure size 432x288 with 1 Axes>"
            ],
            "image/png": "[encoded data removed]"
          },
          "metadata": {
            "needs_background": "light"
          }
        }
      ]
    },
    {
      "cell_type": "markdown",
      "source": [
        "After looking at the bivariate visualizations, it seems like \"Cell phone access\" has quite an impact(or is strong indicator of ) on bank account ownership. So I decided to look for a way to analyze even the categorcical variables against one another. "
      ],
      "metadata": {
        "id": "frERTBZrrYSA"
      }
    },
    {
      "cell_type": "code",
      "source": [
        "#installing the necessary libraries\n",
        "!pip install dython"
      ],
      "metadata": {
        "colab": {
          "base_uri": "https://localhost:8080/"
        },
        "id": "CVjgxPrtsQ78",
        "outputId": "ebca8fb5-056f-49aa-d395-595c9483b277"
      },
      "execution_count": 56,
      "outputs": [
        {
          "output_type": "stream",
          "name": "stdout",
          "text": [
            "Looking in indexes: https://pypi.org/simple, https://us-python.pkg.dev/colab-wheels/public/simple/\n",
            "Requirement already satisfied: dython in /usr/local/lib/python3.7/dist-packages (0.7.1.post3)\n",
            "Requirement already satisfied: scikit-plot>=0.3.7 in /usr/local/lib/python3.7/dist-packages (from dython) (0.3.7)\n",
            "Requirement already satisfied: scipy>=1.7.1 in /usr/local/lib/python3.7/dist-packages (from dython) (1.7.3)\n",
            "Requirement already satisfied: pandas>=1.3.2 in /usr/local/lib/python3.7/dist-packages (from dython) (1.3.5)\n",
            "Requirement already satisfied: scikit-learn>=0.24.2 in /usr/local/lib/python3.7/dist-packages (from dython) (1.0.2)\n",
            "Requirement already satisfied: matplotlib>=3.4.3 in /usr/local/lib/python3.7/dist-packages (from dython) (3.5.2)\n",
            "Requirement already satisfied: seaborn>=0.11.0 in /usr/local/lib/python3.7/dist-packages (from dython) (0.11.2)\n",
            "Requirement already satisfied: numpy>=1.19.5 in /usr/local/lib/python3.7/dist-packages (from dython) (1.21.6)\n",
            "Requirement already satisfied: packaging>=20.0 in /usr/local/lib/python3.7/dist-packages (from matplotlib>=3.4.3->dython) (21.3)\n",
            "Requirement already satisfied: kiwisolver>=1.0.1 in /usr/local/lib/python3.7/dist-packages (from matplotlib>=3.4.3->dython) (1.4.2)\n",
            "Requirement already satisfied: cycler>=0.10 in /usr/local/lib/python3.7/dist-packages (from matplotlib>=3.4.3->dython) (0.11.0)\n",
            "Requirement already satisfied: pillow>=6.2.0 in /usr/local/lib/python3.7/dist-packages (from matplotlib>=3.4.3->dython) (7.1.2)\n",
            "Requirement already satisfied: python-dateutil>=2.7 in /usr/local/lib/python3.7/dist-packages (from matplotlib>=3.4.3->dython) (2.8.2)\n",
            "Requirement already satisfied: pyparsing>=2.2.1 in /usr/local/lib/python3.7/dist-packages (from matplotlib>=3.4.3->dython) (3.0.9)\n",
            "Requirement already satisfied: fonttools>=4.22.0 in /usr/local/lib/python3.7/dist-packages (from matplotlib>=3.4.3->dython) (4.33.3)\n",
            "Requirement already satisfied: typing-extensions in /usr/local/lib/python3.7/dist-packages (from kiwisolver>=1.0.1->matplotlib>=3.4.3->dython) (4.2.0)\n",
            "Requirement already satisfied: pytz>=2017.3 in /usr/local/lib/python3.7/dist-packages (from pandas>=1.3.2->dython) (2022.1)\n",
            "Requirement already satisfied: six>=1.5 in /usr/local/lib/python3.7/dist-packages (from python-dateutil>=2.7->matplotlib>=3.4.3->dython) (1.15.0)\n",
            "Requirement already satisfied: joblib>=0.11 in /usr/local/lib/python3.7/dist-packages (from scikit-learn>=0.24.2->dython) (1.1.0)\n",
            "Requirement already satisfied: threadpoolctl>=2.0.0 in /usr/local/lib/python3.7/dist-packages (from scikit-learn>=0.24.2->dython) (3.1.0)\n"
          ]
        }
      ]
    },
    {
      "cell_type": "markdown",
      "source": [
        "Please make a point of restarting your runtime after installing dython to make sure that the next lines of code work."
      ],
      "metadata": {
        "id": "fK7sF1oDtuFd"
      }
    },
    {
      "cell_type": "code",
      "source": [
        "#importing necessary library to carry out correlation\n",
        "from dython.nominal import associations"
      ],
      "metadata": {
        "id": "--Iz3_9xsmDu"
      },
      "execution_count": 57,
      "outputs": []
    },
    {
      "cell_type": "code",
      "source": [
        "#importing a library to identify nominal variables\n",
        "from dython.nominal import identify_nominal_columns\n",
        "categorical_features=identify_nominal_columns(Fin_df)\n",
        "categorical_features"
      ],
      "metadata": {
        "colab": {
          "base_uri": "https://localhost:8080/"
        },
        "id": "Ko6j5DE6t4gF",
        "outputId": "2b09f8fe-9d5e-4e23-e6a6-382c059188e1"
      },
      "execution_count": 58,
      "outputs": [
        {
          "output_type": "execute_result",
          "data": {
            "text/plain": [
              "['country',\n",
              " 'Has a Bank account',\n",
              " 'Type of Location',\n",
              " 'Cell Phone Access',\n",
              " 'gender_of_respondent',\n",
              " 'The relathip with head',\n",
              " 'marital_status',\n",
              " 'Level of Educuation',\n",
              " 'Type of Job']"
            ]
          },
          "metadata": {},
          "execution_count": 58
        }
      ]
    },
    {
      "cell_type": "code",
      "source": [
        "#generating correlation matrix and heatmap\n",
        "#using associations() to generate the correlation matrix for the entire dataset\n",
        "\n",
        "complete_correlation= associations(Fin_df, filename= 'complete_correlation.png', figsize=(10,10))"
      ],
      "metadata": {
        "colab": {
          "base_uri": "https://localhost:8080/",
          "height": 649
        },
        "id": "zzOpORLUwT07",
        "outputId": "dc2c801e-f9c3-4e58-a199-3e40bb8b0485"
      },
      "execution_count": 59,
      "outputs": [
        {
          "output_type": "display_data",
          "data": {
            "text/plain": [
              "<Figure size 720x720 with 2 Axes>"
            ],
            "image/png": "[encoded data removed]"
          },
          "metadata": {
            "needs_background": "light"
          }
        }
      ]
    },
    {
      "cell_type": "markdown",
      "source": [
        "The above line of code (*i.e. the use of associations()*) calculates the correlation/strength-of-association of features in the data-set with both categorical and continuous features using: Pearson’s R for continuous-continuous cases, Correlation Ratio for categorical-continuous cases, Cramer’s V or Theil’s U for categorical-categorical cases.\n",
        "\n",
        "associations function returns a dictionary that contains:\n",
        "\n",
        "‘corr’ as key : A DataFrame of the correlation between all features.\n",
        "‘ax’ as value: A matplotlib axe which contains the correlation heatmap."
      ],
      "metadata": {
        "id": "XhdZ_HsO1c8V"
      }
    },
    {
      "cell_type": "code",
      "source": [
        "#getting a better visualization\n",
        "df_complete_corr=complete_correlation['corr']\n",
        "df_complete_corr.style.background_gradient(cmap='coolwarm', axis=None).set_precision(2)"
      ],
      "metadata": {
        "colab": {
          "base_uri": "https://localhost:8080/",
          "height": 532
        },
        "id": "sY3a_Xq0yH3t",
        "outputId": "164b4772-d297-43db-b0fc-099e8e6ef69d"
      },
      "execution_count": 60,
      "outputs": [
        {
          "output_type": "stream",
          "name": "stderr",
          "text": [
            "/usr/local/lib/python3.7/dist-packages/ipykernel_launcher.py:3: FutureWarning: this method is deprecated in favour of `Styler.format(precision=..)`\n",
            "  This is separate from the ipykernel package so we can avoid doing imports until\n"
          ]
        },
        {
          "output_type": "execute_result",
          "data": {
            "text/plain": [
              "<pandas.io.formats.style.Styler at 0x7fc960666d50>"
            ],
            "text/html": [
              "<style type=\"text/css\">\n",
              "#T_e9b0e_row0_col0, #T_e9b0e_row0_col1, #T_e9b0e_row1_col0, #T_e9b0e_row1_col1, #T_e9b0e_row2_col2, #T_e9b0e_row3_col3, #T_e9b0e_row4_col4, #T_e9b0e_row5_col5, #T_e9b0e_row6_col6, #T_e9b0e_row7_col7, #T_e9b0e_row8_col8, #T_e9b0e_row9_col9, #T_e9b0e_row10_col10, #T_e9b0e_row11_col11 {\n",
              "  background-color: #b40426;\n",
              "  color: #f1f1f1;\n",
              "}\n",
              "#T_e9b0e_row0_col2, #T_e9b0e_row0_col10, #T_e9b0e_row2_col0, #T_e9b0e_row9_col11, #T_e9b0e_row10_col0, #T_e9b0e_row11_col9 {\n",
              "  background-color: #94b6ff;\n",
              "  color: #000000;\n",
              "}\n",
              "#T_e9b0e_row0_col3, #T_e9b0e_row3_col0, #T_e9b0e_row6_col8, #T_e9b0e_row8_col6 {\n",
              "  background-color: #e6d7cf;\n",
              "  color: #000000;\n",
              "}\n",
              "#T_e9b0e_row0_col4, #T_e9b0e_row4_col0, #T_e9b0e_row7_col9, #T_e9b0e_row9_col7 {\n",
              "  background-color: #9fbfff;\n",
              "  color: #000000;\n",
              "}\n",
              "#T_e9b0e_row0_col5, #T_e9b0e_row5_col0 {\n",
              "  background-color: #e8d6cc;\n",
              "  color: #000000;\n",
              "}\n",
              "#T_e9b0e_row0_col6, #T_e9b0e_row1_col4, #T_e9b0e_row4_col1, #T_e9b0e_row6_col0 {\n",
              "  background-color: #6f92f3;\n",
              "  color: #f1f1f1;\n",
              "}\n",
              "#T_e9b0e_row0_col7, #T_e9b0e_row7_col0 {\n",
              "  background-color: #688aef;\n",
              "  color: #f1f1f1;\n",
              "}\n",
              "#T_e9b0e_row0_col8, #T_e9b0e_row8_col0, #T_e9b0e_row8_col11, #T_e9b0e_row11_col8 {\n",
              "  background-color: #8badfd;\n",
              "  color: #000000;\n",
              "}\n",
              "#T_e9b0e_row0_col9, #T_e9b0e_row9_col0 {\n",
              "  background-color: #b2ccfb;\n",
              "  color: #000000;\n",
              "}\n",
              "#T_e9b0e_row0_col11, #T_e9b0e_row11_col0 {\n",
              "  background-color: #dfdbd9;\n",
              "  color: #000000;\n",
              "}\n",
              "#T_e9b0e_row1_col2, #T_e9b0e_row2_col1 {\n",
              "  background-color: #7da0f9;\n",
              "  color: #f1f1f1;\n",
              "}\n",
              "#T_e9b0e_row1_col3, #T_e9b0e_row3_col1, #T_e9b0e_row4_col11, #T_e9b0e_row11_col4 {\n",
              "  background-color: #9ebeff;\n",
              "  color: #000000;\n",
              "}\n",
              "#T_e9b0e_row1_col5, #T_e9b0e_row5_col1 {\n",
              "  background-color: #4b64d5;\n",
              "  color: #f1f1f1;\n",
              "}\n",
              "#T_e9b0e_row1_col6, #T_e9b0e_row6_col1 {\n",
              "  background-color: #5572df;\n",
              "  color: #f1f1f1;\n",
              "}\n",
              "#T_e9b0e_row1_col7, #T_e9b0e_row7_col1 {\n",
              "  background-color: #5a78e4;\n",
              "  color: #f1f1f1;\n",
              "}\n",
              "#T_e9b0e_row1_col8, #T_e9b0e_row4_col6, #T_e9b0e_row4_col7, #T_e9b0e_row6_col4, #T_e9b0e_row7_col4, #T_e9b0e_row8_col1 {\n",
              "  background-color: #7a9df8;\n",
              "  color: #f1f1f1;\n",
              "}\n",
              "#T_e9b0e_row1_col9, #T_e9b0e_row3_col6, #T_e9b0e_row6_col3, #T_e9b0e_row9_col1 {\n",
              "  background-color: #6a8bef;\n",
              "  color: #f1f1f1;\n",
              "}\n",
              "#T_e9b0e_row1_col10, #T_e9b0e_row10_col1 {\n",
              "  background-color: #98b9ff;\n",
              "  color: #000000;\n",
              "}\n",
              "#T_e9b0e_row1_col11, #T_e9b0e_row2_col11, #T_e9b0e_row11_col1, #T_e9b0e_row11_col2 {\n",
              "  background-color: #c7d7f0;\n",
              "  color: #000000;\n",
              "}\n",
              "#T_e9b0e_row2_col3, #T_e9b0e_row2_col9, #T_e9b0e_row3_col2, #T_e9b0e_row9_col2 {\n",
              "  background-color: #7699f6;\n",
              "  color: #f1f1f1;\n",
              "}\n",
              "#T_e9b0e_row2_col4, #T_e9b0e_row4_col2 {\n",
              "  background-color: #9bbcff;\n",
              "  color: #000000;\n",
              "}\n",
              "#T_e9b0e_row2_col5, #T_e9b0e_row5_col2 {\n",
              "  background-color: #6282ea;\n",
              "  color: #f1f1f1;\n",
              "}\n",
              "#T_e9b0e_row2_col6, #T_e9b0e_row6_col2 {\n",
              "  background-color: #6180e9;\n",
              "  color: #f1f1f1;\n",
              "}\n",
              "#T_e9b0e_row2_col7, #T_e9b0e_row2_col8, #T_e9b0e_row7_col2, #T_e9b0e_row8_col2 {\n",
              "  background-color: #7ea1fa;\n",
              "  color: #f1f1f1;\n",
              "}\n",
              "#T_e9b0e_row2_col10, #T_e9b0e_row6_col10, #T_e9b0e_row10_col2, #T_e9b0e_row10_col6 {\n",
              "  background-color: #d1dae9;\n",
              "  color: #000000;\n",
              "}\n",
              "#T_e9b0e_row3_col4, #T_e9b0e_row4_col3 {\n",
              "  background-color: #7396f5;\n",
              "  color: #f1f1f1;\n",
              "}\n",
              "#T_e9b0e_row3_col5, #T_e9b0e_row5_col3, #T_e9b0e_row5_col8, #T_e9b0e_row8_col5 {\n",
              "  background-color: #afcafc;\n",
              "  color: #000000;\n",
              "}\n",
              "#T_e9b0e_row3_col7, #T_e9b0e_row5_col7, #T_e9b0e_row6_col7, #T_e9b0e_row7_col3, #T_e9b0e_row7_col5, #T_e9b0e_row7_col6 {\n",
              "  background-color: #5e7de7;\n",
              "  color: #f1f1f1;\n",
              "}\n",
              "#T_e9b0e_row3_col8, #T_e9b0e_row8_col3 {\n",
              "  background-color: #7b9ff9;\n",
              "  color: #f1f1f1;\n",
              "}\n",
              "#T_e9b0e_row3_col9, #T_e9b0e_row9_col3 {\n",
              "  background-color: #b3cdfb;\n",
              "  color: #000000;\n",
              "}\n",
              "#T_e9b0e_row3_col10, #T_e9b0e_row10_col3 {\n",
              "  background-color: #84a7fc;\n",
              "  color: #f1f1f1;\n",
              "}\n",
              "#T_e9b0e_row3_col11, #T_e9b0e_row11_col3 {\n",
              "  background-color: #d6dce4;\n",
              "  color: #000000;\n",
              "}\n",
              "#T_e9b0e_row4_col5, #T_e9b0e_row5_col4 {\n",
              "  background-color: #799cf8;\n",
              "  color: #f1f1f1;\n",
              "}\n",
              "#T_e9b0e_row4_col8, #T_e9b0e_row8_col4 {\n",
              "  background-color: #7295f4;\n",
              "  color: #f1f1f1;\n",
              "}\n",
              "#T_e9b0e_row4_col9, #T_e9b0e_row9_col4 {\n",
              "  background-color: #90b2fe;\n",
              "  color: #000000;\n",
              "}\n",
              "#T_e9b0e_row4_col10, #T_e9b0e_row10_col4 {\n",
              "  background-color: #a9c6fd;\n",
              "  color: #000000;\n",
              "}\n",
              "#T_e9b0e_row5_col6, #T_e9b0e_row6_col5 {\n",
              "  background-color: #3b4cc0;\n",
              "  color: #f1f1f1;\n",
              "}\n",
              "#T_e9b0e_row5_col9, #T_e9b0e_row9_col5 {\n",
              "  background-color: #c6d6f1;\n",
              "  color: #000000;\n",
              "}\n",
              "#T_e9b0e_row5_col10, #T_e9b0e_row10_col5 {\n",
              "  background-color: #85a8fc;\n",
              "  color: #f1f1f1;\n",
              "}\n",
              "#T_e9b0e_row5_col11, #T_e9b0e_row11_col5 {\n",
              "  background-color: #a7c5fe;\n",
              "  color: #000000;\n",
              "}\n",
              "#T_e9b0e_row6_col9, #T_e9b0e_row9_col6 {\n",
              "  background-color: #ecd3c5;\n",
              "  color: #000000;\n",
              "}\n",
              "#T_e9b0e_row6_col11, #T_e9b0e_row11_col6 {\n",
              "  background-color: #aac7fd;\n",
              "  color: #000000;\n",
              "}\n",
              "#T_e9b0e_row7_col8, #T_e9b0e_row8_col7 {\n",
              "  background-color: #ebd3c6;\n",
              "  color: #000000;\n",
              "}\n",
              "#T_e9b0e_row7_col10, #T_e9b0e_row8_col10, #T_e9b0e_row10_col7, #T_e9b0e_row10_col8 {\n",
              "  background-color: #81a4fb;\n",
              "  color: #f1f1f1;\n",
              "}\n",
              "#T_e9b0e_row7_col11, #T_e9b0e_row11_col7 {\n",
              "  background-color: #8caffe;\n",
              "  color: #000000;\n",
              "}\n",
              "#T_e9b0e_row8_col9, #T_e9b0e_row9_col8 {\n",
              "  background-color: #b7cff9;\n",
              "  color: #000000;\n",
              "}\n",
              "#T_e9b0e_row9_col10, #T_e9b0e_row10_col9 {\n",
              "  background-color: #8db0fe;\n",
              "  color: #000000;\n",
              "}\n",
              "#T_e9b0e_row10_col11, #T_e9b0e_row11_col10 {\n",
              "  background-color: #96b7ff;\n",
              "  color: #000000;\n",
              "}\n",
              "</style>\n",
              "<table id=\"T_e9b0e_\" class=\"dataframe\">\n",
              "  <thead>\n",
              "    <tr>\n",
              "      <th class=\"blank level0\" >&nbsp;</th>\n",
              "      <th class=\"col_heading level0 col0\" >country</th>\n",
              "      <th class=\"col_heading level0 col1\" >year</th>\n",
              "      <th class=\"col_heading level0 col2\" >Has a Bank account</th>\n",
              "      <th class=\"col_heading level0 col3\" >Type of Location</th>\n",
              "      <th class=\"col_heading level0 col4\" >Cell Phone Access</th>\n",
              "      <th class=\"col_heading level0 col5\" >household_size</th>\n",
              "      <th class=\"col_heading level0 col6\" >Respondent Age</th>\n",
              "      <th class=\"col_heading level0 col7\" >gender_of_respondent</th>\n",
              "      <th class=\"col_heading level0 col8\" >The relathip with head</th>\n",
              "      <th class=\"col_heading level0 col9\" >marital_status</th>\n",
              "      <th class=\"col_heading level0 col10\" >Level of Educuation</th>\n",
              "      <th class=\"col_heading level0 col11\" >Type of Job</th>\n",
              "    </tr>\n",
              "  </thead>\n",
              "  <tbody>\n",
              "    <tr>\n",
              "      <th id=\"T_e9b0e_level0_row0\" class=\"row_heading level0 row0\" >country</th>\n",
              "      <td id=\"T_e9b0e_row0_col0\" class=\"data row0 col0\" >1.00</td>\n",
              "      <td id=\"T_e9b0e_row0_col1\" class=\"data row0 col1\" >1.00</td>\n",
              "      <td id=\"T_e9b0e_row0_col2\" class=\"data row0 col2\" >0.19</td>\n",
              "      <td id=\"T_e9b0e_row0_col3\" class=\"data row0 col3\" >0.48</td>\n",
              "      <td id=\"T_e9b0e_row0_col4\" class=\"data row0 col4\" >0.22</td>\n",
              "      <td id=\"T_e9b0e_row0_col5\" class=\"data row0 col5\" >0.49</td>\n",
              "      <td id=\"T_e9b0e_row0_col6\" class=\"data row0 col6\" >0.07</td>\n",
              "      <td id=\"T_e9b0e_row0_col7\" class=\"data row0 col7\" >0.05</td>\n",
              "      <td id=\"T_e9b0e_row0_col8\" class=\"data row0 col8\" >0.15</td>\n",
              "      <td id=\"T_e9b0e_row0_col9\" class=\"data row0 col9\" >0.28</td>\n",
              "      <td id=\"T_e9b0e_row0_col10\" class=\"data row0 col10\" >0.19</td>\n",
              "      <td id=\"T_e9b0e_row0_col11\" class=\"data row0 col11\" >0.45</td>\n",
              "    </tr>\n",
              "    <tr>\n",
              "      <th id=\"T_e9b0e_level0_row1\" class=\"row_heading level0 row1\" >year</th>\n",
              "      <td id=\"T_e9b0e_row1_col0\" class=\"data row1 col0\" >1.00</td>\n",
              "      <td id=\"T_e9b0e_row1_col1\" class=\"data row1 col1\" >1.00</td>\n",
              "      <td id=\"T_e9b0e_row1_col2\" class=\"data row1 col2\" >0.11</td>\n",
              "      <td id=\"T_e9b0e_row1_col3\" class=\"data row1 col3\" >0.21</td>\n",
              "      <td id=\"T_e9b0e_row1_col4\" class=\"data row1 col4\" >0.07</td>\n",
              "      <td id=\"T_e9b0e_row1_col5\" class=\"data row1 col5\" >-0.05</td>\n",
              "      <td id=\"T_e9b0e_row1_col6\" class=\"data row1 col6\" >-0.02</td>\n",
              "      <td id=\"T_e9b0e_row1_col7\" class=\"data row1 col7\" >0.00</td>\n",
              "      <td id=\"T_e9b0e_row1_col8\" class=\"data row1 col8\" >0.10</td>\n",
              "      <td id=\"T_e9b0e_row1_col9\" class=\"data row1 col9\" >0.05</td>\n",
              "      <td id=\"T_e9b0e_row1_col10\" class=\"data row1 col10\" >0.20</td>\n",
              "      <td id=\"T_e9b0e_row1_col11\" class=\"data row1 col11\" >0.36</td>\n",
              "    </tr>\n",
              "    <tr>\n",
              "      <th id=\"T_e9b0e_level0_row2\" class=\"row_heading level0 row2\" >Has a Bank account</th>\n",
              "      <td id=\"T_e9b0e_row2_col0\" class=\"data row2 col0\" >0.19</td>\n",
              "      <td id=\"T_e9b0e_row2_col1\" class=\"data row2 col1\" >0.11</td>\n",
              "      <td id=\"T_e9b0e_row2_col2\" class=\"data row2 col2\" >1.00</td>\n",
              "      <td id=\"T_e9b0e_row2_col3\" class=\"data row2 col3\" >0.09</td>\n",
              "      <td id=\"T_e9b0e_row2_col4\" class=\"data row2 col4\" >0.21</td>\n",
              "      <td id=\"T_e9b0e_row2_col5\" class=\"data row2 col5\" >0.02</td>\n",
              "      <td id=\"T_e9b0e_row2_col6\" class=\"data row2 col6\" >0.02</td>\n",
              "      <td id=\"T_e9b0e_row2_col7\" class=\"data row2 col7\" >0.12</td>\n",
              "      <td id=\"T_e9b0e_row2_col8\" class=\"data row2 col8\" >0.12</td>\n",
              "      <td id=\"T_e9b0e_row2_col9\" class=\"data row2 col9\" >0.09</td>\n",
              "      <td id=\"T_e9b0e_row2_col10\" class=\"data row2 col10\" >0.39</td>\n",
              "      <td id=\"T_e9b0e_row2_col11\" class=\"data row2 col11\" >0.36</td>\n",
              "    </tr>\n",
              "    <tr>\n",
              "      <th id=\"T_e9b0e_level0_row3\" class=\"row_heading level0 row3\" >Type of Location</th>\n",
              "      <td id=\"T_e9b0e_row3_col0\" class=\"data row3 col0\" >0.48</td>\n",
              "      <td id=\"T_e9b0e_row3_col1\" class=\"data row3 col1\" >0.21</td>\n",
              "      <td id=\"T_e9b0e_row3_col2\" class=\"data row3 col2\" >0.09</td>\n",
              "      <td id=\"T_e9b0e_row3_col3\" class=\"data row3 col3\" >1.00</td>\n",
              "      <td id=\"T_e9b0e_row3_col4\" class=\"data row3 col4\" >0.08</td>\n",
              "      <td id=\"T_e9b0e_row3_col5\" class=\"data row3 col5\" >0.27</td>\n",
              "      <td id=\"T_e9b0e_row3_col6\" class=\"data row3 col6\" >0.05</td>\n",
              "      <td id=\"T_e9b0e_row3_col7\" class=\"data row3 col7\" >0.01</td>\n",
              "      <td id=\"T_e9b0e_row3_col8\" class=\"data row3 col8\" >0.11</td>\n",
              "      <td id=\"T_e9b0e_row3_col9\" class=\"data row3 col9\" >0.29</td>\n",
              "      <td id=\"T_e9b0e_row3_col10\" class=\"data row3 col10\" >0.14</td>\n",
              "      <td id=\"T_e9b0e_row3_col11\" class=\"data row3 col11\" >0.41</td>\n",
              "    </tr>\n",
              "    <tr>\n",
              "      <th id=\"T_e9b0e_level0_row4\" class=\"row_heading level0 row4\" >Cell Phone Access</th>\n",
              "      <td id=\"T_e9b0e_row4_col0\" class=\"data row4 col0\" >0.22</td>\n",
              "      <td id=\"T_e9b0e_row4_col1\" class=\"data row4 col1\" >0.07</td>\n",
              "      <td id=\"T_e9b0e_row4_col2\" class=\"data row4 col2\" >0.21</td>\n",
              "      <td id=\"T_e9b0e_row4_col3\" class=\"data row4 col3\" >0.08</td>\n",
              "      <td id=\"T_e9b0e_row4_col4\" class=\"data row4 col4\" >1.00</td>\n",
              "      <td id=\"T_e9b0e_row4_col5\" class=\"data row4 col5\" >0.10</td>\n",
              "      <td id=\"T_e9b0e_row4_col6\" class=\"data row4 col6\" >0.10</td>\n",
              "      <td id=\"T_e9b0e_row4_col7\" class=\"data row4 col7\" >0.10</td>\n",
              "      <td id=\"T_e9b0e_row4_col8\" class=\"data row4 col8\" >0.08</td>\n",
              "      <td id=\"T_e9b0e_row4_col9\" class=\"data row4 col9\" >0.17</td>\n",
              "      <td id=\"T_e9b0e_row4_col10\" class=\"data row4 col10\" >0.25</td>\n",
              "      <td id=\"T_e9b0e_row4_col11\" class=\"data row4 col11\" >0.22</td>\n",
              "    </tr>\n",
              "    <tr>\n",
              "      <th id=\"T_e9b0e_level0_row5\" class=\"row_heading level0 row5\" >household_size</th>\n",
              "      <td id=\"T_e9b0e_row5_col0\" class=\"data row5 col0\" >0.49</td>\n",
              "      <td id=\"T_e9b0e_row5_col1\" class=\"data row5 col1\" >-0.05</td>\n",
              "      <td id=\"T_e9b0e_row5_col2\" class=\"data row5 col2\" >0.02</td>\n",
              "      <td id=\"T_e9b0e_row5_col3\" class=\"data row5 col3\" >0.27</td>\n",
              "      <td id=\"T_e9b0e_row5_col4\" class=\"data row5 col4\" >0.10</td>\n",
              "      <td id=\"T_e9b0e_row5_col5\" class=\"data row5 col5\" >1.00</td>\n",
              "      <td id=\"T_e9b0e_row5_col6\" class=\"data row5 col6\" >-0.12</td>\n",
              "      <td id=\"T_e9b0e_row5_col7\" class=\"data row5 col7\" >0.01</td>\n",
              "      <td id=\"T_e9b0e_row5_col8\" class=\"data row5 col8\" >0.27</td>\n",
              "      <td id=\"T_e9b0e_row5_col9\" class=\"data row5 col9\" >0.35</td>\n",
              "      <td id=\"T_e9b0e_row5_col10\" class=\"data row5 col10\" >0.14</td>\n",
              "      <td id=\"T_e9b0e_row5_col11\" class=\"data row5 col11\" >0.25</td>\n",
              "    </tr>\n",
              "    <tr>\n",
              "      <th id=\"T_e9b0e_level0_row6\" class=\"row_heading level0 row6\" >Respondent Age</th>\n",
              "      <td id=\"T_e9b0e_row6_col0\" class=\"data row6 col0\" >0.07</td>\n",
              "      <td id=\"T_e9b0e_row6_col1\" class=\"data row6 col1\" >-0.02</td>\n",
              "      <td id=\"T_e9b0e_row6_col2\" class=\"data row6 col2\" >0.02</td>\n",
              "      <td id=\"T_e9b0e_row6_col3\" class=\"data row6 col3\" >0.05</td>\n",
              "      <td id=\"T_e9b0e_row6_col4\" class=\"data row6 col4\" >0.10</td>\n",
              "      <td id=\"T_e9b0e_row6_col5\" class=\"data row6 col5\" >-0.12</td>\n",
              "      <td id=\"T_e9b0e_row6_col6\" class=\"data row6 col6\" >1.00</td>\n",
              "      <td id=\"T_e9b0e_row6_col7\" class=\"data row6 col7\" >0.01</td>\n",
              "      <td id=\"T_e9b0e_row6_col8\" class=\"data row6 col8\" >0.48</td>\n",
              "      <td id=\"T_e9b0e_row6_col9\" class=\"data row6 col9\" >0.51</td>\n",
              "      <td id=\"T_e9b0e_row6_col10\" class=\"data row6 col10\" >0.39</td>\n",
              "      <td id=\"T_e9b0e_row6_col11\" class=\"data row6 col11\" >0.26</td>\n",
              "    </tr>\n",
              "    <tr>\n",
              "      <th id=\"T_e9b0e_level0_row7\" class=\"row_heading level0 row7\" >gender_of_respondent</th>\n",
              "      <td id=\"T_e9b0e_row7_col0\" class=\"data row7 col0\" >0.05</td>\n",
              "      <td id=\"T_e9b0e_row7_col1\" class=\"data row7 col1\" >0.00</td>\n",
              "      <td id=\"T_e9b0e_row7_col2\" class=\"data row7 col2\" >0.12</td>\n",
              "      <td id=\"T_e9b0e_row7_col3\" class=\"data row7 col3\" >0.01</td>\n",
              "      <td id=\"T_e9b0e_row7_col4\" class=\"data row7 col4\" >0.10</td>\n",
              "      <td id=\"T_e9b0e_row7_col5\" class=\"data row7 col5\" >0.01</td>\n",
              "      <td id=\"T_e9b0e_row7_col6\" class=\"data row7 col6\" >0.01</td>\n",
              "      <td id=\"T_e9b0e_row7_col7\" class=\"data row7 col7\" >1.00</td>\n",
              "      <td id=\"T_e9b0e_row7_col8\" class=\"data row7 col8\" >0.51</td>\n",
              "      <td id=\"T_e9b0e_row7_col9\" class=\"data row7 col9\" >0.22</td>\n",
              "      <td id=\"T_e9b0e_row7_col10\" class=\"data row7 col10\" >0.12</td>\n",
              "      <td id=\"T_e9b0e_row7_col11\" class=\"data row7 col11\" >0.16</td>\n",
              "    </tr>\n",
              "    <tr>\n",
              "      <th id=\"T_e9b0e_level0_row8\" class=\"row_heading level0 row8\" >The relathip with head</th>\n",
              "      <td id=\"T_e9b0e_row8_col0\" class=\"data row8 col0\" >0.15</td>\n",
              "      <td id=\"T_e9b0e_row8_col1\" class=\"data row8 col1\" >0.10</td>\n",
              "      <td id=\"T_e9b0e_row8_col2\" class=\"data row8 col2\" >0.12</td>\n",
              "      <td id=\"T_e9b0e_row8_col3\" class=\"data row8 col3\" >0.11</td>\n",
              "      <td id=\"T_e9b0e_row8_col4\" class=\"data row8 col4\" >0.08</td>\n",
              "      <td id=\"T_e9b0e_row8_col5\" class=\"data row8 col5\" >0.27</td>\n",
              "      <td id=\"T_e9b0e_row8_col6\" class=\"data row8 col6\" >0.48</td>\n",
              "      <td id=\"T_e9b0e_row8_col7\" class=\"data row8 col7\" >0.51</td>\n",
              "      <td id=\"T_e9b0e_row8_col8\" class=\"data row8 col8\" >1.00</td>\n",
              "      <td id=\"T_e9b0e_row8_col9\" class=\"data row8 col9\" >0.30</td>\n",
              "      <td id=\"T_e9b0e_row8_col10\" class=\"data row8 col10\" >0.12</td>\n",
              "      <td id=\"T_e9b0e_row8_col11\" class=\"data row8 col11\" >0.16</td>\n",
              "    </tr>\n",
              "    <tr>\n",
              "      <th id=\"T_e9b0e_level0_row9\" class=\"row_heading level0 row9\" >marital_status</th>\n",
              "      <td id=\"T_e9b0e_row9_col0\" class=\"data row9 col0\" >0.28</td>\n",
              "      <td id=\"T_e9b0e_row9_col1\" class=\"data row9 col1\" >0.05</td>\n",
              "      <td id=\"T_e9b0e_row9_col2\" class=\"data row9 col2\" >0.09</td>\n",
              "      <td id=\"T_e9b0e_row9_col3\" class=\"data row9 col3\" >0.29</td>\n",
              "      <td id=\"T_e9b0e_row9_col4\" class=\"data row9 col4\" >0.17</td>\n",
              "      <td id=\"T_e9b0e_row9_col5\" class=\"data row9 col5\" >0.35</td>\n",
              "      <td id=\"T_e9b0e_row9_col6\" class=\"data row9 col6\" >0.51</td>\n",
              "      <td id=\"T_e9b0e_row9_col7\" class=\"data row9 col7\" >0.22</td>\n",
              "      <td id=\"T_e9b0e_row9_col8\" class=\"data row9 col8\" >0.30</td>\n",
              "      <td id=\"T_e9b0e_row9_col9\" class=\"data row9 col9\" >1.00</td>\n",
              "      <td id=\"T_e9b0e_row9_col10\" class=\"data row9 col10\" >0.16</td>\n",
              "      <td id=\"T_e9b0e_row9_col11\" class=\"data row9 col11\" >0.19</td>\n",
              "    </tr>\n",
              "    <tr>\n",
              "      <th id=\"T_e9b0e_level0_row10\" class=\"row_heading level0 row10\" >Level of Educuation</th>\n",
              "      <td id=\"T_e9b0e_row10_col0\" class=\"data row10 col0\" >0.19</td>\n",
              "      <td id=\"T_e9b0e_row10_col1\" class=\"data row10 col1\" >0.20</td>\n",
              "      <td id=\"T_e9b0e_row10_col2\" class=\"data row10 col2\" >0.39</td>\n",
              "      <td id=\"T_e9b0e_row10_col3\" class=\"data row10 col3\" >0.14</td>\n",
              "      <td id=\"T_e9b0e_row10_col4\" class=\"data row10 col4\" >0.25</td>\n",
              "      <td id=\"T_e9b0e_row10_col5\" class=\"data row10 col5\" >0.14</td>\n",
              "      <td id=\"T_e9b0e_row10_col6\" class=\"data row10 col6\" >0.39</td>\n",
              "      <td id=\"T_e9b0e_row10_col7\" class=\"data row10 col7\" >0.12</td>\n",
              "      <td id=\"T_e9b0e_row10_col8\" class=\"data row10 col8\" >0.12</td>\n",
              "      <td id=\"T_e9b0e_row10_col9\" class=\"data row10 col9\" >0.16</td>\n",
              "      <td id=\"T_e9b0e_row10_col10\" class=\"data row10 col10\" >1.00</td>\n",
              "      <td id=\"T_e9b0e_row10_col11\" class=\"data row10 col11\" >0.19</td>\n",
              "    </tr>\n",
              "    <tr>\n",
              "      <th id=\"T_e9b0e_level0_row11\" class=\"row_heading level0 row11\" >Type of Job</th>\n",
              "      <td id=\"T_e9b0e_row11_col0\" class=\"data row11 col0\" >0.45</td>\n",
              "      <td id=\"T_e9b0e_row11_col1\" class=\"data row11 col1\" >0.36</td>\n",
              "      <td id=\"T_e9b0e_row11_col2\" class=\"data row11 col2\" >0.36</td>\n",
              "      <td id=\"T_e9b0e_row11_col3\" class=\"data row11 col3\" >0.41</td>\n",
              "      <td id=\"T_e9b0e_row11_col4\" class=\"data row11 col4\" >0.22</td>\n",
              "      <td id=\"T_e9b0e_row11_col5\" class=\"data row11 col5\" >0.25</td>\n",
              "      <td id=\"T_e9b0e_row11_col6\" class=\"data row11 col6\" >0.26</td>\n",
              "      <td id=\"T_e9b0e_row11_col7\" class=\"data row11 col7\" >0.16</td>\n",
              "      <td id=\"T_e9b0e_row11_col8\" class=\"data row11 col8\" >0.16</td>\n",
              "      <td id=\"T_e9b0e_row11_col9\" class=\"data row11 col9\" >0.19</td>\n",
              "      <td id=\"T_e9b0e_row11_col10\" class=\"data row11 col10\" >0.19</td>\n",
              "      <td id=\"T_e9b0e_row11_col11\" class=\"data row11 col11\" >1.00</td>\n",
              "    </tr>\n",
              "  </tbody>\n",
              "</table>\n"
            ]
          },
          "metadata": {},
          "execution_count": 60
        }
      ]
    },
    {
      "cell_type": "code",
      "source": [
        "#carrying out the pearson correlation for the only two numerical columns in my dataset as well as to confirm that it matches the heat map above\n",
        "p_corr = np.corrcoef(Fin_df['household_size'],Fin_df['Respondent Age'])\n",
        "print(p_corr)\n",
        "#the correlation coefficient of -0.1172 matches the one in the heatmap of -0.12."
      ],
      "metadata": {
        "colab": {
          "base_uri": "https://localhost:8080/"
        },
        "id": "FeuxxS-kzu1c",
        "outputId": "54c7147b-d4a6-41f9-9b7e-82061db47b81"
      },
      "execution_count": 61,
      "outputs": [
        {
          "output_type": "stream",
          "name": "stdout",
          "text": [
            "[[ 1.         -0.11720495]\n",
            " [-0.11720495  1.        ]]\n"
          ]
        }
      ]
    },
    {
      "cell_type": "code",
      "source": [
        "Fin_df.columns.values"
      ],
      "metadata": {
        "colab": {
          "base_uri": "https://localhost:8080/"
        },
        "id": "ky7th36Vri0w",
        "outputId": "accc06fb-8ece-47b1-b188-6093514d4baf"
      },
      "execution_count": 62,
      "outputs": [
        {
          "output_type": "execute_result",
          "data": {
            "text/plain": [
              "array(['country', 'year', 'Has a Bank account', 'Type of Location',\n",
              "       'Cell Phone Access', 'household_size', 'Respondent Age',\n",
              "       'gender_of_respondent', 'The relathip with head', 'marital_status',\n",
              "       'Level of Educuation', 'Type of Job'], dtype=object)"
            ]
          },
          "metadata": {},
          "execution_count": 62
        }
      ]
    },
    {
      "cell_type": "markdown",
      "source": [
        "# Multivariate analysis"
      ],
      "metadata": {
        "id": "acmF2mn3zfIE"
      }
    },
    {
      "cell_type": "markdown",
      "source": [
        "Most of the columns contain categorical data hence there is need to encode the data. I will create dummy variables for the categorical variables."
      ],
      "metadata": {
        "id": "Cct9jJ7Je5Pb"
      }
    },
    {
      "cell_type": "code",
      "source": [
        "#getting the details about the columns in the datafram\n",
        "Fin_df.info()"
      ],
      "metadata": {
        "colab": {
          "base_uri": "https://localhost:8080/"
        },
        "id": "gj0XU6RTe34u",
        "outputId": "c6d853a1-a0c6-44c6-b776-058c4f4e0fb2"
      },
      "execution_count": 63,
      "outputs": [
        {
          "output_type": "stream",
          "name": "stdout",
          "text": [
            "<class 'pandas.core.frame.DataFrame'>\n",
            "Int64Index: 23280 entries, 0 to 23523\n",
            "Data columns (total 12 columns):\n",
            " #   Column                  Non-Null Count  Dtype  \n",
            "---  ------                  --------------  -----  \n",
            " 0   country                 23280 non-null  object \n",
            " 1   year                    23280 non-null  int64  \n",
            " 2   Has a Bank account      23280 non-null  object \n",
            " 3   Type of Location        23280 non-null  object \n",
            " 4   Cell Phone Access       23280 non-null  object \n",
            " 5   household_size          23280 non-null  float64\n",
            " 6   Respondent Age          23280 non-null  float64\n",
            " 7   gender_of_respondent    23280 non-null  object \n",
            " 8   The relathip with head  23280 non-null  object \n",
            " 9   marital_status          23280 non-null  object \n",
            " 10  Level of Educuation     23280 non-null  object \n",
            " 11  Type of Job             23280 non-null  object \n",
            "dtypes: float64(2), int64(1), object(9)\n",
            "memory usage: 2.8+ MB\n"
          ]
        }
      ]
    },
    {
      "cell_type": "code",
      "source": [
        "#dummying all categorical variables\n",
        "#country\n",
        "country = pd.get_dummies(Fin_df['country'], drop_first = True)\n",
        "\n",
        "#Type of location\n",
        "Location = pd.get_dummies(Fin_df['Type of Location'], drop_first = True )\n",
        "\n",
        "#Cell phone access\n",
        "Cell_access = pd.get_dummies(Fin_df['Cell Phone Access'], drop_first = True)\n",
        "\n",
        "#Gender of respondent\n",
        "Gender = pd.get_dummies(Fin_df['gender_of_respondent'], drop_first = True)\n",
        "\n",
        "#Relationship with head\n",
        "Head_rel = pd.get_dummies(Fin_df['The relathip with head'], drop_first = True)\n",
        "\n",
        "#Marital status\n",
        "Marital = pd.get_dummies(Fin_df['marital_status'], drop_first = True)\n",
        "                        \n",
        "#Level of education\n",
        "Education = pd.get_dummies(Fin_df['Level of Educuation'], drop_first = True)\n",
        "\n",
        "#Type of job\n",
        "Job = pd.get_dummies(Fin_df['Type of Job'], drop_first = True)\n"
      ],
      "metadata": {
        "id": "IHg3ITC9egIl"
      },
      "execution_count": 67,
      "outputs": []
    },
    {
      "cell_type": "code",
      "source": [
        "#dropping all columns that will be replaced by dummies\n",
        "Fin_df.drop(['country','Type of Location','Cell Phone Access','gender_of_respondent','The relathip with head','marital_status','Level of Educuation','Type of Job'], axis = 1, inplace = True)\n",
        "\n",
        "#concatenating the dummy variables\n",
        "Fin_df = pd.concat([Fin_df, country, Location, Cell_access,Gender, Head_rel, Marital, Education, Job], axis= 1)"
      ],
      "metadata": {
        "id": "y8OL_AhGm2Ar"
      },
      "execution_count": 69,
      "outputs": []
    },
    {
      "cell_type": "code",
      "source": [
        "#viewing new columns\n",
        "print(Fin_df.columns)"
      ],
      "metadata": {
        "colab": {
          "base_uri": "https://localhost:8080/"
        },
        "id": "VdyH35K2oJ6S",
        "outputId": "d1a2b266-da2c-4d23-f5a9-78029a3bf668"
      },
      "execution_count": 70,
      "outputs": [
        {
          "output_type": "stream",
          "name": "stdout",
          "text": [
            "Index(['year', 'Has a Bank account', 'household_size', 'Respondent Age',\n",
            "       'Rwanda', 'Tanzania', 'Uganda', 'Urban', 'Yes', 'Male',\n",
            "       'Head of Household', 'Other non-relatives', 'Other relative', 'Parent',\n",
            "       'Spouse', 'Dont know', 'Married/Living together',\n",
            "       'Single/Never Married', 'Widowed', 'Other/Dont know/RTA',\n",
            "       'Primary education', 'Secondary education', 'Tertiary education',\n",
            "       'Vocational/Specialised training', 'Farming and Fishing',\n",
            "       'Formally employed Government', 'Formally employed Private',\n",
            "       'Government Dependent', 'Informally employed', 'No Income',\n",
            "       'Other Income', 'Remittance Dependent', 'Self employed'],\n",
            "      dtype='object')\n"
          ]
        }
      ]
    },
    {
      "cell_type": "code",
      "source": [
        "#renaming 'Has a bank account' column to make next step easier\n",
        "Fin_df.rename(columns = {'Has a Bank account': 'Bank_ownership'}, inplace = True)"
      ],
      "metadata": {
        "id": "O5HH22bqpqoo"
      },
      "execution_count": 71,
      "outputs": []
    },
    {
      "cell_type": "code",
      "source": [
        "#creating labels dataframe for the bank account ownership column\n",
        "labels = pd.DataFrame(Fin_df['Bank_ownership'])\n",
        "labels.Bank_ownership[labels.Bank_ownership == \"Yes\"] = 1\n",
        "labels.Bank_ownership[labels.Bank_ownership == \"No\"] = 0\n",
        "\n",
        "Fin_df = Fin_df.drop(['Bank_ownership'], axis = 1)\n",
        "Fin_df = Fin_df.apply(pd.to_numeric)\n",
        "labels = labels.apply(pd.to_numeric)"
      ],
      "metadata": {
        "id": "aYBgP5FepBUr"
      },
      "execution_count": 72,
      "outputs": []
    },
    {
      "cell_type": "code",
      "source": [
        "#splitting our data into train and test datasets\n",
        "\n",
        "#import the relevant libraries first\n",
        "from sklearn.model_selection import train_test_split\n",
        "from sklearn.linear_model import LogisticRegression\n",
        "from sklearn.metrics import accuracy_score\n",
        "from sklearn.metrics import classification_report"
      ],
      "metadata": {
        "id": "cHzkRYR5sMiW"
      },
      "execution_count": 74,
      "outputs": []
    },
    {
      "cell_type": "code",
      "source": [
        "#carrying out linear discriminant analysis and possibly logistic regression if time allows\n",
        "#we already have our feature and label dataset\n",
        "#dividing into training and test set\n",
        "X_train, X_test, Y_train, Y_test = train_test_split(Fin_df, labels, test_size = 0.3, random_state = 0)"
      ],
      "metadata": {
        "id": "SWFNoNgftW2b"
      },
      "execution_count": 75,
      "outputs": []
    },
    {
      "cell_type": "code",
      "source": [
        "#feature calling because this only works on standardized data\n",
        "from sklearn.preprocessing import StandardScaler\n",
        "sc = StandardScaler()\n",
        "X_train = sc.fit_transform(X_train)\n",
        "X_test = sc.transform(X_test)\n"
      ],
      "metadata": {
        "id": "zRopFJr8urFJ"
      },
      "execution_count": 76,
      "outputs": []
    },
    {
      "cell_type": "code",
      "source": [
        "#performing LDA\n",
        "from sklearn.discriminant_analysis import LinearDiscriminantAnalysis as LDA\n",
        "lda = LDA(n_components = 1)\n",
        "X_train = lda.fit_transform(X_train, Y_train)\n",
        "X_test = lda.transform(X_test)\n"
      ],
      "metadata": {
        "colab": {
          "base_uri": "https://localhost:8080/"
        },
        "id": "8uxrNfwRvINo",
        "outputId": "0c2fc816-b22a-445d-fa46-6500059bf54c"
      },
      "execution_count": 77,
      "outputs": [
        {
          "output_type": "stream",
          "name": "stderr",
          "text": [
            "/usr/local/lib/python3.7/dist-packages/sklearn/utils/validation.py:993: DataConversionWarning: A column-vector y was passed when a 1d array was expected. Please change the shape of y to (n_samples, ), for example using ravel().\n",
            "  y = column_or_1d(y, warn=True)\n"
          ]
        }
      ]
    },
    {
      "cell_type": "code",
      "source": [
        "#Training and making predictions\n",
        "from sklearn.ensemble import RandomForestClassifier\n",
        "classifier = RandomForestClassifier(max_depth = 2, random_state = 0)\n",
        "classifier.fit(X_train, Y_train)\n",
        "y_pred = classifier.predict(X_test)"
      ],
      "metadata": {
        "colab": {
          "base_uri": "https://localhost:8080/"
        },
        "id": "fAtafWXVvnqP",
        "outputId": "dc6803d9-7a50-4e37-dfa3-3bcda25b6f6d"
      },
      "execution_count": 80,
      "outputs": [
        {
          "output_type": "stream",
          "name": "stderr",
          "text": [
            "/usr/local/lib/python3.7/dist-packages/ipykernel_launcher.py:4: DataConversionWarning: A column-vector y was passed when a 1d array was expected. Please change the shape of y to (n_samples,), for example using ravel().\n",
            "  after removing the cwd from sys.path.\n"
          ]
        }
      ]
    },
    {
      "cell_type": "code",
      "source": [
        "#Evaluate performance\n",
        "from sklearn.metrics import confusion_matrix\n",
        "cm = confusion_matrix(Y_test, y_pred)\n",
        "print(cm)\n",
        "print('Accuracy'+str(accuracy_score(Y_test, y_pred)))\n",
        "\n",
        "#the model predicts with 87.96% accuracy the likelihood of owning a bank account given the variable attributes"
      ],
      "metadata": {
        "colab": {
          "base_uri": "https://localhost:8080/"
        },
        "id": "UlNwjDQvwDTg",
        "outputId": "206a1aea-36e2-427e-90f5-84effebdeb07"
      },
      "execution_count": 83,
      "outputs": [
        {
          "output_type": "stream",
          "name": "stdout",
          "text": [
            "[[5901   82]\n",
            " [ 759  242]]\n",
            "Accuracy0.879581901489118\n"
          ]
        }
      ]
    },
    {
      "cell_type": "code",
      "source": [
        "Fin_df.columns.values"
      ],
      "metadata": {
        "colab": {
          "base_uri": "https://localhost:8080/"
        },
        "id": "pvsL2XrQlOkO",
        "outputId": "b3881d5a-319d-4e24-92ea-a0683434cd3a"
      },
      "execution_count": 64,
      "outputs": [
        {
          "output_type": "execute_result",
          "data": {
            "text/plain": [
              "array(['country', 'year', 'Has a Bank account', 'Type of Location',\n",
              "       'Cell Phone Access', 'household_size', 'Respondent Age',\n",
              "       'gender_of_respondent', 'The relathip with head', 'marital_status',\n",
              "       'Level of Educuation', 'Type of Job'], dtype=object)"
            ]
          },
          "metadata": {},
          "execution_count": 64
        }
      ]
    }
  ]
}